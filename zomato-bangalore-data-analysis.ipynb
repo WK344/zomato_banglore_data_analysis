{
 "cells": [
  {
   "cell_type": "code",
   "execution_count": 1,
   "id": "18f6c0f7",
   "metadata": {
    "_cell_guid": "b1076dfc-b9ad-4769-8c92-a6c4dae69d19",
    "_uuid": "8f2839f25d086af736a60e9eeb907d3b93b6e0e5",
    "execution": {
     "iopub.execute_input": "2024-12-03T05:18:13.267031Z",
     "iopub.status.busy": "2024-12-03T05:18:13.265801Z",
     "iopub.status.idle": "2024-12-03T05:18:14.244943Z",
     "shell.execute_reply": "2024-12-03T05:18:14.243531Z"
    },
    "papermill": {
     "duration": 0.995232,
     "end_time": "2024-12-03T05:18:14.247322",
     "exception": false,
     "start_time": "2024-12-03T05:18:13.252090",
     "status": "completed"
    },
    "tags": []
   },
   "outputs": [
    {
     "name": "stdout",
     "output_type": "stream",
     "text": [
      "/kaggle/input/zomato-bangalore-restaurants/zomato.csv\n"
     ]
    }
   ],
   "source": [
    "# This Python 3 environment comes with many helpful analytics libraries installed\n",
    "# It is defined by the kaggle/python Docker image: https://github.com/kaggle/docker-python\n",
    "# For example, here's several helpful packages to load\n",
    "\n",
    "import numpy as np # linear algebra\n",
    "import pandas as pd # data processing, CSV file I/O (e.g. pd.read_csv)\n",
    "\n",
    "# Input data files are available in the read-only \"../input/\" directory\n",
    "# For example, running this (by clicking run or pressing Shift+Enter) will list all files under the input directory\n",
    "\n",
    "import os\n",
    "for dirname, _, filenames in os.walk('/kaggle/input'):\n",
    "    for filename in filenames:\n",
    "        print(os.path.join(dirname, filename))\n",
    "\n",
    "# You can write up to 20GB to the current directory (/kaggle/working/) that gets preserved as output when you create a version using \"Save & Run All\" \n",
    "# You can also write temporary files to /kaggle/temp/, but they won't be saved outside of the current session"
   ]
  },
  {
   "cell_type": "code",
   "execution_count": 2,
   "id": "ae1d663e",
   "metadata": {
    "execution": {
     "iopub.execute_input": "2024-12-03T05:18:14.271818Z",
     "iopub.status.busy": "2024-12-03T05:18:14.271311Z",
     "iopub.status.idle": "2024-12-03T05:18:16.023076Z",
     "shell.execute_reply": "2024-12-03T05:18:16.021944Z"
    },
    "papermill": {
     "duration": 1.767293,
     "end_time": "2024-12-03T05:18:16.025714",
     "exception": false,
     "start_time": "2024-12-03T05:18:14.258421",
     "status": "completed"
    },
    "tags": []
   },
   "outputs": [],
   "source": [
    "import numpy as np\n",
    "import pandas as pd\n",
    "import seaborn as sns\n",
    "import matplotlib.pyplot as plt"
   ]
  },
  {
   "cell_type": "code",
   "execution_count": 3,
   "id": "69c1dc55",
   "metadata": {
    "execution": {
     "iopub.execute_input": "2024-12-03T05:18:16.048632Z",
     "iopub.status.busy": "2024-12-03T05:18:16.048048Z",
     "iopub.status.idle": "2024-12-03T05:18:29.763591Z",
     "shell.execute_reply": "2024-12-03T05:18:29.762272Z"
    },
    "papermill": {
     "duration": 13.72993,
     "end_time": "2024-12-03T05:18:29.766302",
     "exception": false,
     "start_time": "2024-12-03T05:18:16.036372",
     "status": "completed"
    },
    "tags": []
   },
   "outputs": [],
   "source": [
    "df = pd.read_csv(\"/kaggle/input/zomato-bangalore-restaurants/zomato.csv\")"
   ]
  },
  {
   "cell_type": "code",
   "execution_count": 4,
   "id": "da3aa25d",
   "metadata": {
    "execution": {
     "iopub.execute_input": "2024-12-03T05:18:29.789368Z",
     "iopub.status.busy": "2024-12-03T05:18:29.788976Z",
     "iopub.status.idle": "2024-12-03T05:18:29.816064Z",
     "shell.execute_reply": "2024-12-03T05:18:29.814968Z"
    },
    "papermill": {
     "duration": 0.040994,
     "end_time": "2024-12-03T05:18:29.818408",
     "exception": false,
     "start_time": "2024-12-03T05:18:29.777414",
     "status": "completed"
    },
    "tags": []
   },
   "outputs": [
    {
     "data": {
      "text/html": [
       "<div>\n",
       "<style scoped>\n",
       "    .dataframe tbody tr th:only-of-type {\n",
       "        vertical-align: middle;\n",
       "    }\n",
       "\n",
       "    .dataframe tbody tr th {\n",
       "        vertical-align: top;\n",
       "    }\n",
       "\n",
       "    .dataframe thead th {\n",
       "        text-align: right;\n",
       "    }\n",
       "</style>\n",
       "<table border=\"1\" class=\"dataframe\">\n",
       "  <thead>\n",
       "    <tr style=\"text-align: right;\">\n",
       "      <th></th>\n",
       "      <th>url</th>\n",
       "      <th>address</th>\n",
       "      <th>name</th>\n",
       "      <th>online_order</th>\n",
       "      <th>book_table</th>\n",
       "      <th>rate</th>\n",
       "      <th>votes</th>\n",
       "      <th>phone</th>\n",
       "      <th>location</th>\n",
       "      <th>rest_type</th>\n",
       "      <th>dish_liked</th>\n",
       "      <th>cuisines</th>\n",
       "      <th>approx_cost(for two people)</th>\n",
       "      <th>reviews_list</th>\n",
       "      <th>menu_item</th>\n",
       "      <th>listed_in(type)</th>\n",
       "      <th>listed_in(city)</th>\n",
       "    </tr>\n",
       "  </thead>\n",
       "  <tbody>\n",
       "    <tr>\n",
       "      <th>0</th>\n",
       "      <td>https://www.zomato.com/bangalore/jalsa-banasha...</td>\n",
       "      <td>942, 21st Main Road, 2nd Stage, Banashankari, ...</td>\n",
       "      <td>Jalsa</td>\n",
       "      <td>Yes</td>\n",
       "      <td>Yes</td>\n",
       "      <td>4.1/5</td>\n",
       "      <td>775</td>\n",
       "      <td>080 42297555\\r\\n+91 9743772233</td>\n",
       "      <td>Banashankari</td>\n",
       "      <td>Casual Dining</td>\n",
       "      <td>Pasta, Lunch Buffet, Masala Papad, Paneer Laja...</td>\n",
       "      <td>North Indian, Mughlai, Chinese</td>\n",
       "      <td>800</td>\n",
       "      <td>[('Rated 4.0', 'RATED\\n  A beautiful place to ...</td>\n",
       "      <td>[]</td>\n",
       "      <td>Buffet</td>\n",
       "      <td>Banashankari</td>\n",
       "    </tr>\n",
       "    <tr>\n",
       "      <th>1</th>\n",
       "      <td>https://www.zomato.com/bangalore/spice-elephan...</td>\n",
       "      <td>2nd Floor, 80 Feet Road, Near Big Bazaar, 6th ...</td>\n",
       "      <td>Spice Elephant</td>\n",
       "      <td>Yes</td>\n",
       "      <td>No</td>\n",
       "      <td>4.1/5</td>\n",
       "      <td>787</td>\n",
       "      <td>080 41714161</td>\n",
       "      <td>Banashankari</td>\n",
       "      <td>Casual Dining</td>\n",
       "      <td>Momos, Lunch Buffet, Chocolate Nirvana, Thai G...</td>\n",
       "      <td>Chinese, North Indian, Thai</td>\n",
       "      <td>800</td>\n",
       "      <td>[('Rated 4.0', 'RATED\\n  Had been here for din...</td>\n",
       "      <td>[]</td>\n",
       "      <td>Buffet</td>\n",
       "      <td>Banashankari</td>\n",
       "    </tr>\n",
       "    <tr>\n",
       "      <th>2</th>\n",
       "      <td>https://www.zomato.com/SanchurroBangalore?cont...</td>\n",
       "      <td>1112, Next to KIMS Medical College, 17th Cross...</td>\n",
       "      <td>San Churro Cafe</td>\n",
       "      <td>Yes</td>\n",
       "      <td>No</td>\n",
       "      <td>3.8/5</td>\n",
       "      <td>918</td>\n",
       "      <td>+91 9663487993</td>\n",
       "      <td>Banashankari</td>\n",
       "      <td>Cafe, Casual Dining</td>\n",
       "      <td>Churros, Cannelloni, Minestrone Soup, Hot Choc...</td>\n",
       "      <td>Cafe, Mexican, Italian</td>\n",
       "      <td>800</td>\n",
       "      <td>[('Rated 3.0', \"RATED\\n  Ambience is not that ...</td>\n",
       "      <td>[]</td>\n",
       "      <td>Buffet</td>\n",
       "      <td>Banashankari</td>\n",
       "    </tr>\n",
       "  </tbody>\n",
       "</table>\n",
       "</div>"
      ],
      "text/plain": [
       "                                                 url  \\\n",
       "0  https://www.zomato.com/bangalore/jalsa-banasha...   \n",
       "1  https://www.zomato.com/bangalore/spice-elephan...   \n",
       "2  https://www.zomato.com/SanchurroBangalore?cont...   \n",
       "\n",
       "                                             address             name  \\\n",
       "0  942, 21st Main Road, 2nd Stage, Banashankari, ...            Jalsa   \n",
       "1  2nd Floor, 80 Feet Road, Near Big Bazaar, 6th ...   Spice Elephant   \n",
       "2  1112, Next to KIMS Medical College, 17th Cross...  San Churro Cafe   \n",
       "\n",
       "  online_order book_table   rate  votes                           phone  \\\n",
       "0          Yes        Yes  4.1/5    775  080 42297555\\r\\n+91 9743772233   \n",
       "1          Yes         No  4.1/5    787                    080 41714161   \n",
       "2          Yes         No  3.8/5    918                  +91 9663487993   \n",
       "\n",
       "       location            rest_type  \\\n",
       "0  Banashankari        Casual Dining   \n",
       "1  Banashankari        Casual Dining   \n",
       "2  Banashankari  Cafe, Casual Dining   \n",
       "\n",
       "                                          dish_liked  \\\n",
       "0  Pasta, Lunch Buffet, Masala Papad, Paneer Laja...   \n",
       "1  Momos, Lunch Buffet, Chocolate Nirvana, Thai G...   \n",
       "2  Churros, Cannelloni, Minestrone Soup, Hot Choc...   \n",
       "\n",
       "                         cuisines approx_cost(for two people)  \\\n",
       "0  North Indian, Mughlai, Chinese                         800   \n",
       "1     Chinese, North Indian, Thai                         800   \n",
       "2          Cafe, Mexican, Italian                         800   \n",
       "\n",
       "                                        reviews_list menu_item  \\\n",
       "0  [('Rated 4.0', 'RATED\\n  A beautiful place to ...        []   \n",
       "1  [('Rated 4.0', 'RATED\\n  Had been here for din...        []   \n",
       "2  [('Rated 3.0', \"RATED\\n  Ambience is not that ...        []   \n",
       "\n",
       "  listed_in(type) listed_in(city)  \n",
       "0          Buffet    Banashankari  \n",
       "1          Buffet    Banashankari  \n",
       "2          Buffet    Banashankari  "
      ]
     },
     "execution_count": 4,
     "metadata": {},
     "output_type": "execute_result"
    }
   ],
   "source": [
    "df.head(3)"
   ]
  },
  {
   "cell_type": "code",
   "execution_count": 5,
   "id": "b5cbb062",
   "metadata": {
    "execution": {
     "iopub.execute_input": "2024-12-03T05:18:29.842131Z",
     "iopub.status.busy": "2024-12-03T05:18:29.841684Z",
     "iopub.status.idle": "2024-12-03T05:18:29.849121Z",
     "shell.execute_reply": "2024-12-03T05:18:29.847847Z"
    },
    "papermill": {
     "duration": 0.021964,
     "end_time": "2024-12-03T05:18:29.851316",
     "exception": false,
     "start_time": "2024-12-03T05:18:29.829352",
     "status": "completed"
    },
    "tags": []
   },
   "outputs": [
    {
     "data": {
      "text/plain": [
       "(51717, 17)"
      ]
     },
     "execution_count": 5,
     "metadata": {},
     "output_type": "execute_result"
    }
   ],
   "source": [
    "df.shape"
   ]
  },
  {
   "cell_type": "markdown",
   "id": "b9948b8d",
   "metadata": {
    "papermill": {
     "duration": 0.010231,
     "end_time": "2024-12-03T05:18:29.872368",
     "exception": false,
     "start_time": "2024-12-03T05:18:29.862137",
     "status": "completed"
    },
    "tags": []
   },
   "source": [
    "# Remove the irrelevent columns"
   ]
  },
  {
   "cell_type": "code",
   "execution_count": 6,
   "id": "0f734c76",
   "metadata": {
    "execution": {
     "iopub.execute_input": "2024-12-03T05:18:29.895532Z",
     "iopub.status.busy": "2024-12-03T05:18:29.895104Z",
     "iopub.status.idle": "2024-12-03T05:18:29.902372Z",
     "shell.execute_reply": "2024-12-03T05:18:29.901330Z"
    },
    "papermill": {
     "duration": 0.021357,
     "end_time": "2024-12-03T05:18:29.904529",
     "exception": false,
     "start_time": "2024-12-03T05:18:29.883172",
     "status": "completed"
    },
    "tags": []
   },
   "outputs": [
    {
     "data": {
      "text/plain": [
       "Index(['url', 'address', 'name', 'online_order', 'book_table', 'rate', 'votes',\n",
       "       'phone', 'location', 'rest_type', 'dish_liked', 'cuisines',\n",
       "       'approx_cost(for two people)', 'reviews_list', 'menu_item',\n",
       "       'listed_in(type)', 'listed_in(city)'],\n",
       "      dtype='object')"
      ]
     },
     "execution_count": 6,
     "metadata": {},
     "output_type": "execute_result"
    }
   ],
   "source": [
    "df.columns"
   ]
  },
  {
   "cell_type": "code",
   "execution_count": 7,
   "id": "15bb72d3",
   "metadata": {
    "execution": {
     "iopub.execute_input": "2024-12-03T05:18:29.928954Z",
     "iopub.status.busy": "2024-12-03T05:18:29.927725Z",
     "iopub.status.idle": "2024-12-03T05:18:29.944566Z",
     "shell.execute_reply": "2024-12-03T05:18:29.943343Z"
    },
    "papermill": {
     "duration": 0.031803,
     "end_time": "2024-12-03T05:18:29.947156",
     "exception": false,
     "start_time": "2024-12-03T05:18:29.915353",
     "status": "completed"
    },
    "tags": []
   },
   "outputs": [],
   "source": [
    "df = df.drop([\"url\",\"address\",\"phone\",\"menu_item\",\"dish_liked\",\"reviews_list\"], axis = 1, errors=\"ignore\")"
   ]
  },
  {
   "cell_type": "code",
   "execution_count": 8,
   "id": "b954549a",
   "metadata": {
    "execution": {
     "iopub.execute_input": "2024-12-03T05:18:29.970460Z",
     "iopub.status.busy": "2024-12-03T05:18:29.970078Z",
     "iopub.status.idle": "2024-12-03T05:18:29.985721Z",
     "shell.execute_reply": "2024-12-03T05:18:29.984712Z"
    },
    "papermill": {
     "duration": 0.03004,
     "end_time": "2024-12-03T05:18:29.988013",
     "exception": false,
     "start_time": "2024-12-03T05:18:29.957973",
     "status": "completed"
    },
    "tags": []
   },
   "outputs": [
    {
     "data": {
      "text/html": [
       "<div>\n",
       "<style scoped>\n",
       "    .dataframe tbody tr th:only-of-type {\n",
       "        vertical-align: middle;\n",
       "    }\n",
       "\n",
       "    .dataframe tbody tr th {\n",
       "        vertical-align: top;\n",
       "    }\n",
       "\n",
       "    .dataframe thead th {\n",
       "        text-align: right;\n",
       "    }\n",
       "</style>\n",
       "<table border=\"1\" class=\"dataframe\">\n",
       "  <thead>\n",
       "    <tr style=\"text-align: right;\">\n",
       "      <th></th>\n",
       "      <th>name</th>\n",
       "      <th>online_order</th>\n",
       "      <th>book_table</th>\n",
       "      <th>rate</th>\n",
       "      <th>votes</th>\n",
       "      <th>location</th>\n",
       "      <th>rest_type</th>\n",
       "      <th>cuisines</th>\n",
       "      <th>approx_cost(for two people)</th>\n",
       "      <th>listed_in(type)</th>\n",
       "      <th>listed_in(city)</th>\n",
       "    </tr>\n",
       "  </thead>\n",
       "  <tbody>\n",
       "    <tr>\n",
       "      <th>0</th>\n",
       "      <td>Jalsa</td>\n",
       "      <td>Yes</td>\n",
       "      <td>Yes</td>\n",
       "      <td>4.1/5</td>\n",
       "      <td>775</td>\n",
       "      <td>Banashankari</td>\n",
       "      <td>Casual Dining</td>\n",
       "      <td>North Indian, Mughlai, Chinese</td>\n",
       "      <td>800</td>\n",
       "      <td>Buffet</td>\n",
       "      <td>Banashankari</td>\n",
       "    </tr>\n",
       "    <tr>\n",
       "      <th>1</th>\n",
       "      <td>Spice Elephant</td>\n",
       "      <td>Yes</td>\n",
       "      <td>No</td>\n",
       "      <td>4.1/5</td>\n",
       "      <td>787</td>\n",
       "      <td>Banashankari</td>\n",
       "      <td>Casual Dining</td>\n",
       "      <td>Chinese, North Indian, Thai</td>\n",
       "      <td>800</td>\n",
       "      <td>Buffet</td>\n",
       "      <td>Banashankari</td>\n",
       "    </tr>\n",
       "    <tr>\n",
       "      <th>2</th>\n",
       "      <td>San Churro Cafe</td>\n",
       "      <td>Yes</td>\n",
       "      <td>No</td>\n",
       "      <td>3.8/5</td>\n",
       "      <td>918</td>\n",
       "      <td>Banashankari</td>\n",
       "      <td>Cafe, Casual Dining</td>\n",
       "      <td>Cafe, Mexican, Italian</td>\n",
       "      <td>800</td>\n",
       "      <td>Buffet</td>\n",
       "      <td>Banashankari</td>\n",
       "    </tr>\n",
       "    <tr>\n",
       "      <th>3</th>\n",
       "      <td>Addhuri Udupi Bhojana</td>\n",
       "      <td>No</td>\n",
       "      <td>No</td>\n",
       "      <td>3.7/5</td>\n",
       "      <td>88</td>\n",
       "      <td>Banashankari</td>\n",
       "      <td>Quick Bites</td>\n",
       "      <td>South Indian, North Indian</td>\n",
       "      <td>300</td>\n",
       "      <td>Buffet</td>\n",
       "      <td>Banashankari</td>\n",
       "    </tr>\n",
       "    <tr>\n",
       "      <th>4</th>\n",
       "      <td>Grand Village</td>\n",
       "      <td>No</td>\n",
       "      <td>No</td>\n",
       "      <td>3.8/5</td>\n",
       "      <td>166</td>\n",
       "      <td>Basavanagudi</td>\n",
       "      <td>Casual Dining</td>\n",
       "      <td>North Indian, Rajasthani</td>\n",
       "      <td>600</td>\n",
       "      <td>Buffet</td>\n",
       "      <td>Banashankari</td>\n",
       "    </tr>\n",
       "  </tbody>\n",
       "</table>\n",
       "</div>"
      ],
      "text/plain": [
       "                    name online_order book_table   rate  votes      location  \\\n",
       "0                  Jalsa          Yes        Yes  4.1/5    775  Banashankari   \n",
       "1         Spice Elephant          Yes         No  4.1/5    787  Banashankari   \n",
       "2        San Churro Cafe          Yes         No  3.8/5    918  Banashankari   \n",
       "3  Addhuri Udupi Bhojana           No         No  3.7/5     88  Banashankari   \n",
       "4          Grand Village           No         No  3.8/5    166  Basavanagudi   \n",
       "\n",
       "             rest_type                        cuisines  \\\n",
       "0        Casual Dining  North Indian, Mughlai, Chinese   \n",
       "1        Casual Dining     Chinese, North Indian, Thai   \n",
       "2  Cafe, Casual Dining          Cafe, Mexican, Italian   \n",
       "3          Quick Bites      South Indian, North Indian   \n",
       "4        Casual Dining        North Indian, Rajasthani   \n",
       "\n",
       "  approx_cost(for two people) listed_in(type) listed_in(city)  \n",
       "0                         800          Buffet    Banashankari  \n",
       "1                         800          Buffet    Banashankari  \n",
       "2                         800          Buffet    Banashankari  \n",
       "3                         300          Buffet    Banashankari  \n",
       "4                         600          Buffet    Banashankari  "
      ]
     },
     "execution_count": 8,
     "metadata": {},
     "output_type": "execute_result"
    }
   ],
   "source": [
    "df.head()"
   ]
  },
  {
   "cell_type": "code",
   "execution_count": 9,
   "id": "96792eee",
   "metadata": {
    "execution": {
     "iopub.execute_input": "2024-12-03T05:18:30.013381Z",
     "iopub.status.busy": "2024-12-03T05:18:30.011837Z",
     "iopub.status.idle": "2024-12-03T05:18:30.063083Z",
     "shell.execute_reply": "2024-12-03T05:18:30.061647Z"
    },
    "papermill": {
     "duration": 0.066256,
     "end_time": "2024-12-03T05:18:30.065691",
     "exception": false,
     "start_time": "2024-12-03T05:18:29.999435",
     "status": "completed"
    },
    "tags": []
   },
   "outputs": [
    {
     "name": "stdout",
     "output_type": "stream",
     "text": [
      "<class 'pandas.core.frame.DataFrame'>\n",
      "RangeIndex: 51717 entries, 0 to 51716\n",
      "Data columns (total 11 columns):\n",
      " #   Column                       Non-Null Count  Dtype \n",
      "---  ------                       --------------  ----- \n",
      " 0   name                         51717 non-null  object\n",
      " 1   online_order                 51717 non-null  object\n",
      " 2   book_table                   51717 non-null  object\n",
      " 3   rate                         43942 non-null  object\n",
      " 4   votes                        51717 non-null  int64 \n",
      " 5   location                     51696 non-null  object\n",
      " 6   rest_type                    51490 non-null  object\n",
      " 7   cuisines                     51672 non-null  object\n",
      " 8   approx_cost(for two people)  51371 non-null  object\n",
      " 9   listed_in(type)              51717 non-null  object\n",
      " 10  listed_in(city)              51717 non-null  object\n",
      "dtypes: int64(1), object(10)\n",
      "memory usage: 4.3+ MB\n"
     ]
    }
   ],
   "source": [
    "df.info()"
   ]
  },
  {
   "cell_type": "markdown",
   "id": "712aafbd",
   "metadata": {
    "papermill": {
     "duration": 0.011487,
     "end_time": "2024-12-03T05:18:30.088842",
     "exception": false,
     "start_time": "2024-12-03T05:18:30.077355",
     "status": "completed"
    },
    "tags": []
   },
   "source": [
    "# Remove the duplicates"
   ]
  },
  {
   "cell_type": "code",
   "execution_count": 10,
   "id": "21fa03a5",
   "metadata": {
    "execution": {
     "iopub.execute_input": "2024-12-03T05:18:30.114123Z",
     "iopub.status.busy": "2024-12-03T05:18:30.112665Z",
     "iopub.status.idle": "2024-12-03T05:18:30.174516Z",
     "shell.execute_reply": "2024-12-03T05:18:30.173118Z"
    },
    "papermill": {
     "duration": 0.076969,
     "end_time": "2024-12-03T05:18:30.176977",
     "exception": false,
     "start_time": "2024-12-03T05:18:30.100008",
     "status": "completed"
    },
    "tags": []
   },
   "outputs": [
    {
     "data": {
      "text/plain": [
       "(51609, 11)"
      ]
     },
     "execution_count": 10,
     "metadata": {},
     "output_type": "execute_result"
    }
   ],
   "source": [
    "df.drop_duplicates(inplace = True)\n",
    "df.shape"
   ]
  },
  {
   "cell_type": "markdown",
   "id": "847a2649",
   "metadata": {
    "papermill": {
     "duration": 0.010807,
     "end_time": "2024-12-03T05:18:30.199063",
     "exception": false,
     "start_time": "2024-12-03T05:18:30.188256",
     "status": "completed"
    },
    "tags": []
   },
   "source": [
    "# Cleaning 'rate' column"
   ]
  },
  {
   "cell_type": "code",
   "execution_count": 11,
   "id": "89d0d04f",
   "metadata": {
    "execution": {
     "iopub.execute_input": "2024-12-03T05:18:30.223712Z",
     "iopub.status.busy": "2024-12-03T05:18:30.223287Z",
     "iopub.status.idle": "2024-12-03T05:18:30.232563Z",
     "shell.execute_reply": "2024-12-03T05:18:30.231498Z"
    },
    "papermill": {
     "duration": 0.024039,
     "end_time": "2024-12-03T05:18:30.234707",
     "exception": false,
     "start_time": "2024-12-03T05:18:30.210668",
     "status": "completed"
    },
    "tags": []
   },
   "outputs": [
    {
     "data": {
      "text/plain": [
       "array(['4.1/5', '3.8/5', '3.7/5', '3.6/5', '4.6/5', '4.0/5', '4.2/5',\n",
       "       '3.9/5', '3.1/5', '3.0/5', '3.2/5', '3.3/5', '2.8/5', '4.4/5',\n",
       "       '4.3/5', 'NEW', '2.9/5', '3.5/5', nan, '2.6/5', '3.8 /5', '3.4/5',\n",
       "       '4.5/5', '2.5/5', '2.7/5', '4.7/5', '2.4/5', '2.2/5', '2.3/5',\n",
       "       '3.4 /5', '-', '3.6 /5', '4.8/5', '3.9 /5', '4.2 /5', '4.0 /5',\n",
       "       '4.1 /5', '3.7 /5', '3.1 /5', '2.9 /5', '3.3 /5', '2.8 /5',\n",
       "       '3.5 /5', '2.7 /5', '2.5 /5', '3.2 /5', '2.6 /5', '4.5 /5',\n",
       "       '4.3 /5', '4.4 /5', '4.9/5', '2.1/5', '2.0/5', '1.8/5', '4.6 /5',\n",
       "       '4.9 /5', '3.0 /5', '4.8 /5', '2.3 /5', '4.7 /5', '2.4 /5',\n",
       "       '2.1 /5', '2.2 /5', '2.0 /5', '1.8 /5'], dtype=object)"
      ]
     },
     "execution_count": 11,
     "metadata": {},
     "output_type": "execute_result"
    }
   ],
   "source": [
    "df[\"rate\"].unique()"
   ]
  },
  {
   "cell_type": "markdown",
   "id": "20f4bde6",
   "metadata": {
    "papermill": {
     "duration": 0.011147,
     "end_time": "2024-12-03T05:18:30.257116",
     "exception": false,
     "start_time": "2024-12-03T05:18:30.245969",
     "status": "completed"
    },
    "tags": []
   },
   "source": [
    "# Removing \"NEW\" , \"-\" and \"/5\" from Rate Column"
   ]
  },
  {
   "cell_type": "code",
   "execution_count": 12,
   "id": "0a17f08d",
   "metadata": {
    "execution": {
     "iopub.execute_input": "2024-12-03T05:18:30.283247Z",
     "iopub.status.busy": "2024-12-03T05:18:30.282760Z",
     "iopub.status.idle": "2024-12-03T05:18:30.342585Z",
     "shell.execute_reply": "2024-12-03T05:18:30.341316Z"
    },
    "papermill": {
     "duration": 0.075423,
     "end_time": "2024-12-03T05:18:30.345063",
     "exception": false,
     "start_time": "2024-12-03T05:18:30.269640",
     "status": "completed"
    },
    "tags": []
   },
   "outputs": [
    {
     "name": "stdout",
     "output_type": "stream",
     "text": [
      "0    4.1\n",
      "1    4.1\n",
      "2    3.8\n",
      "3    3.7\n",
      "4    3.8\n",
      "Name: rate, dtype: float64\n"
     ]
    }
   ],
   "source": [
    "# Replace \"/5\" with an empty string\n",
    "df['rate'] = df['rate'].astype(str).str.replace(\"/5\", \"\", regex=False)\n",
    "\n",
    "# Replace non-numeric values (like \"NEW\" or \"-\") with NaN\n",
    "df['rate'] = df['rate'].replace(['NEW', '-', ''], None)\n",
    "\n",
    "# Convert to float, ignoring errors for invalid entries\n",
    "df['rate'] = pd.to_numeric(df['rate'], errors='coerce')\n",
    "\n",
    "# Check the result\n",
    "print(df['rate'].head())\n",
    "\n"
   ]
  },
  {
   "cell_type": "code",
   "execution_count": 13,
   "id": "c8eddee3",
   "metadata": {
    "execution": {
     "iopub.execute_input": "2024-12-03T05:18:30.369433Z",
     "iopub.status.busy": "2024-12-03T05:18:30.368991Z",
     "iopub.status.idle": "2024-12-03T05:18:30.375061Z",
     "shell.execute_reply": "2024-12-03T05:18:30.373837Z"
    },
    "papermill": {
     "duration": 0.020887,
     "end_time": "2024-12-03T05:18:30.377264",
     "exception": false,
     "start_time": "2024-12-03T05:18:30.356377",
     "status": "completed"
    },
    "tags": []
   },
   "outputs": [
    {
     "name": "stdout",
     "output_type": "stream",
     "text": [
      "float64\n"
     ]
    }
   ],
   "source": [
    "print(df['rate'].dtype)"
   ]
  },
  {
   "cell_type": "code",
   "execution_count": 14,
   "id": "c819c150",
   "metadata": {
    "execution": {
     "iopub.execute_input": "2024-12-03T05:18:30.403033Z",
     "iopub.status.busy": "2024-12-03T05:18:30.402566Z",
     "iopub.status.idle": "2024-12-03T05:18:30.410758Z",
     "shell.execute_reply": "2024-12-03T05:18:30.409446Z"
    },
    "papermill": {
     "duration": 0.023435,
     "end_time": "2024-12-03T05:18:30.412965",
     "exception": false,
     "start_time": "2024-12-03T05:18:30.389530",
     "status": "completed"
    },
    "tags": []
   },
   "outputs": [
    {
     "data": {
      "text/plain": [
       "10019"
      ]
     },
     "execution_count": 14,
     "metadata": {},
     "output_type": "execute_result"
    }
   ],
   "source": [
    "df.rate.isnull().sum()"
   ]
  },
  {
   "cell_type": "markdown",
   "id": "01eeb1f4",
   "metadata": {
    "papermill": {
     "duration": 0.011041,
     "end_time": "2024-12-03T05:18:30.435523",
     "exception": false,
     "start_time": "2024-12-03T05:18:30.424482",
     "status": "completed"
    },
    "tags": []
   },
   "source": [
    "# Filling null value in rate column with mean"
   ]
  },
  {
   "cell_type": "code",
   "execution_count": 15,
   "id": "2dd41ab5",
   "metadata": {
    "execution": {
     "iopub.execute_input": "2024-12-03T05:18:30.459845Z",
     "iopub.status.busy": "2024-12-03T05:18:30.459459Z",
     "iopub.status.idle": "2024-12-03T05:18:30.470184Z",
     "shell.execute_reply": "2024-12-03T05:18:30.468956Z"
    },
    "papermill": {
     "duration": 0.026232,
     "end_time": "2024-12-03T05:18:30.473019",
     "exception": false,
     "start_time": "2024-12-03T05:18:30.446787",
     "status": "completed"
    },
    "tags": []
   },
   "outputs": [
    {
     "name": "stderr",
     "output_type": "stream",
     "text": [
      "/tmp/ipykernel_17/1687008678.py:1: FutureWarning: A value is trying to be set on a copy of a DataFrame or Series through chained assignment using an inplace method.\n",
      "The behavior will change in pandas 3.0. This inplace method will never work because the intermediate object on which we are setting values always behaves as a copy.\n",
      "\n",
      "For example, when doing 'df[col].method(value, inplace=True)', try using 'df.method({col: value}, inplace=True)' or df[col] = df[col].method(value) instead, to perform the operation inplace on the original object.\n",
      "\n",
      "\n",
      "  df['rate'].fillna(df['rate'].mean(), inplace = True)\n"
     ]
    },
    {
     "data": {
      "text/plain": [
       "0"
      ]
     },
     "execution_count": 15,
     "metadata": {},
     "output_type": "execute_result"
    }
   ],
   "source": [
    "df['rate'].fillna(df['rate'].mean(), inplace = True)\n",
    "df['rate'].isnull().sum()"
   ]
  },
  {
   "cell_type": "code",
   "execution_count": 16,
   "id": "7a901a89",
   "metadata": {
    "execution": {
     "iopub.execute_input": "2024-12-03T05:18:30.500669Z",
     "iopub.status.busy": "2024-12-03T05:18:30.500297Z",
     "iopub.status.idle": "2024-12-03T05:18:30.515436Z",
     "shell.execute_reply": "2024-12-03T05:18:30.514370Z"
    },
    "papermill": {
     "duration": 0.032309,
     "end_time": "2024-12-03T05:18:30.517820",
     "exception": false,
     "start_time": "2024-12-03T05:18:30.485511",
     "status": "completed"
    },
    "tags": []
   },
   "outputs": [
    {
     "data": {
      "text/html": [
       "<div>\n",
       "<style scoped>\n",
       "    .dataframe tbody tr th:only-of-type {\n",
       "        vertical-align: middle;\n",
       "    }\n",
       "\n",
       "    .dataframe tbody tr th {\n",
       "        vertical-align: top;\n",
       "    }\n",
       "\n",
       "    .dataframe thead th {\n",
       "        text-align: right;\n",
       "    }\n",
       "</style>\n",
       "<table border=\"1\" class=\"dataframe\">\n",
       "  <thead>\n",
       "    <tr style=\"text-align: right;\">\n",
       "      <th></th>\n",
       "      <th>name</th>\n",
       "      <th>online_order</th>\n",
       "      <th>book_table</th>\n",
       "      <th>rate</th>\n",
       "      <th>votes</th>\n",
       "      <th>location</th>\n",
       "      <th>rest_type</th>\n",
       "      <th>cuisines</th>\n",
       "      <th>approx_cost(for two people)</th>\n",
       "      <th>listed_in(type)</th>\n",
       "      <th>listed_in(city)</th>\n",
       "    </tr>\n",
       "  </thead>\n",
       "  <tbody>\n",
       "    <tr>\n",
       "      <th>0</th>\n",
       "      <td>Jalsa</td>\n",
       "      <td>Yes</td>\n",
       "      <td>Yes</td>\n",
       "      <td>4.1</td>\n",
       "      <td>775</td>\n",
       "      <td>Banashankari</td>\n",
       "      <td>Casual Dining</td>\n",
       "      <td>North Indian, Mughlai, Chinese</td>\n",
       "      <td>800</td>\n",
       "      <td>Buffet</td>\n",
       "      <td>Banashankari</td>\n",
       "    </tr>\n",
       "    <tr>\n",
       "      <th>1</th>\n",
       "      <td>Spice Elephant</td>\n",
       "      <td>Yes</td>\n",
       "      <td>No</td>\n",
       "      <td>4.1</td>\n",
       "      <td>787</td>\n",
       "      <td>Banashankari</td>\n",
       "      <td>Casual Dining</td>\n",
       "      <td>Chinese, North Indian, Thai</td>\n",
       "      <td>800</td>\n",
       "      <td>Buffet</td>\n",
       "      <td>Banashankari</td>\n",
       "    </tr>\n",
       "    <tr>\n",
       "      <th>2</th>\n",
       "      <td>San Churro Cafe</td>\n",
       "      <td>Yes</td>\n",
       "      <td>No</td>\n",
       "      <td>3.8</td>\n",
       "      <td>918</td>\n",
       "      <td>Banashankari</td>\n",
       "      <td>Cafe, Casual Dining</td>\n",
       "      <td>Cafe, Mexican, Italian</td>\n",
       "      <td>800</td>\n",
       "      <td>Buffet</td>\n",
       "      <td>Banashankari</td>\n",
       "    </tr>\n",
       "    <tr>\n",
       "      <th>3</th>\n",
       "      <td>Addhuri Udupi Bhojana</td>\n",
       "      <td>No</td>\n",
       "      <td>No</td>\n",
       "      <td>3.7</td>\n",
       "      <td>88</td>\n",
       "      <td>Banashankari</td>\n",
       "      <td>Quick Bites</td>\n",
       "      <td>South Indian, North Indian</td>\n",
       "      <td>300</td>\n",
       "      <td>Buffet</td>\n",
       "      <td>Banashankari</td>\n",
       "    </tr>\n",
       "    <tr>\n",
       "      <th>4</th>\n",
       "      <td>Grand Village</td>\n",
       "      <td>No</td>\n",
       "      <td>No</td>\n",
       "      <td>3.8</td>\n",
       "      <td>166</td>\n",
       "      <td>Basavanagudi</td>\n",
       "      <td>Casual Dining</td>\n",
       "      <td>North Indian, Rajasthani</td>\n",
       "      <td>600</td>\n",
       "      <td>Buffet</td>\n",
       "      <td>Banashankari</td>\n",
       "    </tr>\n",
       "  </tbody>\n",
       "</table>\n",
       "</div>"
      ],
      "text/plain": [
       "                    name online_order book_table  rate  votes      location  \\\n",
       "0                  Jalsa          Yes        Yes   4.1    775  Banashankari   \n",
       "1         Spice Elephant          Yes         No   4.1    787  Banashankari   \n",
       "2        San Churro Cafe          Yes         No   3.8    918  Banashankari   \n",
       "3  Addhuri Udupi Bhojana           No         No   3.7     88  Banashankari   \n",
       "4          Grand Village           No         No   3.8    166  Basavanagudi   \n",
       "\n",
       "             rest_type                        cuisines  \\\n",
       "0        Casual Dining  North Indian, Mughlai, Chinese   \n",
       "1        Casual Dining     Chinese, North Indian, Thai   \n",
       "2  Cafe, Casual Dining          Cafe, Mexican, Italian   \n",
       "3          Quick Bites      South Indian, North Indian   \n",
       "4        Casual Dining        North Indian, Rajasthani   \n",
       "\n",
       "  approx_cost(for two people) listed_in(type) listed_in(city)  \n",
       "0                         800          Buffet    Banashankari  \n",
       "1                         800          Buffet    Banashankari  \n",
       "2                         800          Buffet    Banashankari  \n",
       "3                         300          Buffet    Banashankari  \n",
       "4                         600          Buffet    Banashankari  "
      ]
     },
     "execution_count": 16,
     "metadata": {},
     "output_type": "execute_result"
    }
   ],
   "source": [
    "df.head()"
   ]
  },
  {
   "cell_type": "markdown",
   "id": "63c7b129",
   "metadata": {
    "papermill": {
     "duration": 0.011774,
     "end_time": "2024-12-03T05:18:30.541477",
     "exception": false,
     "start_time": "2024-12-03T05:18:30.529703",
     "status": "completed"
    },
    "tags": []
   },
   "source": [
    "# Dropping null values"
   ]
  },
  {
   "cell_type": "code",
   "execution_count": 17,
   "id": "c5a65a18",
   "metadata": {
    "execution": {
     "iopub.execute_input": "2024-12-03T05:18:30.566682Z",
     "iopub.status.busy": "2024-12-03T05:18:30.566285Z",
     "iopub.status.idle": "2024-12-03T05:18:30.611082Z",
     "shell.execute_reply": "2024-12-03T05:18:30.609975Z"
    },
    "papermill": {
     "duration": 0.060215,
     "end_time": "2024-12-03T05:18:30.613400",
     "exception": false,
     "start_time": "2024-12-03T05:18:30.553185",
     "status": "completed"
    },
    "tags": []
   },
   "outputs": [
    {
     "data": {
      "text/html": [
       "<div>\n",
       "<style scoped>\n",
       "    .dataframe tbody tr th:only-of-type {\n",
       "        vertical-align: middle;\n",
       "    }\n",
       "\n",
       "    .dataframe tbody tr th {\n",
       "        vertical-align: top;\n",
       "    }\n",
       "\n",
       "    .dataframe thead th {\n",
       "        text-align: right;\n",
       "    }\n",
       "</style>\n",
       "<table border=\"1\" class=\"dataframe\">\n",
       "  <thead>\n",
       "    <tr style=\"text-align: right;\">\n",
       "      <th></th>\n",
       "      <th>name</th>\n",
       "      <th>online_order</th>\n",
       "      <th>book_table</th>\n",
       "      <th>rate</th>\n",
       "      <th>votes</th>\n",
       "      <th>location</th>\n",
       "      <th>rest_type</th>\n",
       "      <th>cuisines</th>\n",
       "      <th>approx_cost(for two people)</th>\n",
       "      <th>listed_in(type)</th>\n",
       "      <th>listed_in(city)</th>\n",
       "    </tr>\n",
       "  </thead>\n",
       "  <tbody>\n",
       "    <tr>\n",
       "      <th>0</th>\n",
       "      <td>Jalsa</td>\n",
       "      <td>Yes</td>\n",
       "      <td>Yes</td>\n",
       "      <td>4.1</td>\n",
       "      <td>775</td>\n",
       "      <td>Banashankari</td>\n",
       "      <td>Casual Dining</td>\n",
       "      <td>North Indian, Mughlai, Chinese</td>\n",
       "      <td>800</td>\n",
       "      <td>Buffet</td>\n",
       "      <td>Banashankari</td>\n",
       "    </tr>\n",
       "    <tr>\n",
       "      <th>1</th>\n",
       "      <td>Spice Elephant</td>\n",
       "      <td>Yes</td>\n",
       "      <td>No</td>\n",
       "      <td>4.1</td>\n",
       "      <td>787</td>\n",
       "      <td>Banashankari</td>\n",
       "      <td>Casual Dining</td>\n",
       "      <td>Chinese, North Indian, Thai</td>\n",
       "      <td>800</td>\n",
       "      <td>Buffet</td>\n",
       "      <td>Banashankari</td>\n",
       "    </tr>\n",
       "    <tr>\n",
       "      <th>2</th>\n",
       "      <td>San Churro Cafe</td>\n",
       "      <td>Yes</td>\n",
       "      <td>No</td>\n",
       "      <td>3.8</td>\n",
       "      <td>918</td>\n",
       "      <td>Banashankari</td>\n",
       "      <td>Cafe, Casual Dining</td>\n",
       "      <td>Cafe, Mexican, Italian</td>\n",
       "      <td>800</td>\n",
       "      <td>Buffet</td>\n",
       "      <td>Banashankari</td>\n",
       "    </tr>\n",
       "    <tr>\n",
       "      <th>3</th>\n",
       "      <td>Addhuri Udupi Bhojana</td>\n",
       "      <td>No</td>\n",
       "      <td>No</td>\n",
       "      <td>3.7</td>\n",
       "      <td>88</td>\n",
       "      <td>Banashankari</td>\n",
       "      <td>Quick Bites</td>\n",
       "      <td>South Indian, North Indian</td>\n",
       "      <td>300</td>\n",
       "      <td>Buffet</td>\n",
       "      <td>Banashankari</td>\n",
       "    </tr>\n",
       "    <tr>\n",
       "      <th>4</th>\n",
       "      <td>Grand Village</td>\n",
       "      <td>No</td>\n",
       "      <td>No</td>\n",
       "      <td>3.8</td>\n",
       "      <td>166</td>\n",
       "      <td>Basavanagudi</td>\n",
       "      <td>Casual Dining</td>\n",
       "      <td>North Indian, Rajasthani</td>\n",
       "      <td>600</td>\n",
       "      <td>Buffet</td>\n",
       "      <td>Banashankari</td>\n",
       "    </tr>\n",
       "  </tbody>\n",
       "</table>\n",
       "</div>"
      ],
      "text/plain": [
       "                    name online_order book_table  rate  votes      location  \\\n",
       "0                  Jalsa          Yes        Yes   4.1    775  Banashankari   \n",
       "1         Spice Elephant          Yes         No   4.1    787  Banashankari   \n",
       "2        San Churro Cafe          Yes         No   3.8    918  Banashankari   \n",
       "3  Addhuri Udupi Bhojana           No         No   3.7     88  Banashankari   \n",
       "4          Grand Village           No         No   3.8    166  Basavanagudi   \n",
       "\n",
       "             rest_type                        cuisines  \\\n",
       "0        Casual Dining  North Indian, Mughlai, Chinese   \n",
       "1        Casual Dining     Chinese, North Indian, Thai   \n",
       "2  Cafe, Casual Dining          Cafe, Mexican, Italian   \n",
       "3          Quick Bites      South Indian, North Indian   \n",
       "4        Casual Dining        North Indian, Rajasthani   \n",
       "\n",
       "  approx_cost(for two people) listed_in(type) listed_in(city)  \n",
       "0                         800          Buffet    Banashankari  \n",
       "1                         800          Buffet    Banashankari  \n",
       "2                         800          Buffet    Banashankari  \n",
       "3                         300          Buffet    Banashankari  \n",
       "4                         600          Buffet    Banashankari  "
      ]
     },
     "execution_count": 17,
     "metadata": {},
     "output_type": "execute_result"
    }
   ],
   "source": [
    "df.dropna(inplace = True)\n",
    "df.head()"
   ]
  },
  {
   "cell_type": "code",
   "execution_count": 18,
   "id": "aefb4ce8",
   "metadata": {
    "execution": {
     "iopub.execute_input": "2024-12-03T05:18:30.639722Z",
     "iopub.status.busy": "2024-12-03T05:18:30.638742Z",
     "iopub.status.idle": "2024-12-03T05:18:30.654293Z",
     "shell.execute_reply": "2024-12-03T05:18:30.653130Z"
    },
    "papermill": {
     "duration": 0.030937,
     "end_time": "2024-12-03T05:18:30.656377",
     "exception": false,
     "start_time": "2024-12-03T05:18:30.625440",
     "status": "completed"
    },
    "tags": []
   },
   "outputs": [
    {
     "data": {
      "text/html": [
       "<div>\n",
       "<style scoped>\n",
       "    .dataframe tbody tr th:only-of-type {\n",
       "        vertical-align: middle;\n",
       "    }\n",
       "\n",
       "    .dataframe tbody tr th {\n",
       "        vertical-align: top;\n",
       "    }\n",
       "\n",
       "    .dataframe thead th {\n",
       "        text-align: right;\n",
       "    }\n",
       "</style>\n",
       "<table border=\"1\" class=\"dataframe\">\n",
       "  <thead>\n",
       "    <tr style=\"text-align: right;\">\n",
       "      <th></th>\n",
       "      <th>name</th>\n",
       "      <th>online_order</th>\n",
       "      <th>book_table</th>\n",
       "      <th>rate</th>\n",
       "      <th>votes</th>\n",
       "      <th>location</th>\n",
       "      <th>rest_type</th>\n",
       "      <th>cuisines</th>\n",
       "      <th>cost2plates</th>\n",
       "      <th>Type</th>\n",
       "      <th>listed_in(city)</th>\n",
       "    </tr>\n",
       "  </thead>\n",
       "  <tbody>\n",
       "    <tr>\n",
       "      <th>0</th>\n",
       "      <td>Jalsa</td>\n",
       "      <td>Yes</td>\n",
       "      <td>Yes</td>\n",
       "      <td>4.1</td>\n",
       "      <td>775</td>\n",
       "      <td>Banashankari</td>\n",
       "      <td>Casual Dining</td>\n",
       "      <td>North Indian, Mughlai, Chinese</td>\n",
       "      <td>800</td>\n",
       "      <td>Buffet</td>\n",
       "      <td>Banashankari</td>\n",
       "    </tr>\n",
       "    <tr>\n",
       "      <th>1</th>\n",
       "      <td>Spice Elephant</td>\n",
       "      <td>Yes</td>\n",
       "      <td>No</td>\n",
       "      <td>4.1</td>\n",
       "      <td>787</td>\n",
       "      <td>Banashankari</td>\n",
       "      <td>Casual Dining</td>\n",
       "      <td>Chinese, North Indian, Thai</td>\n",
       "      <td>800</td>\n",
       "      <td>Buffet</td>\n",
       "      <td>Banashankari</td>\n",
       "    </tr>\n",
       "    <tr>\n",
       "      <th>2</th>\n",
       "      <td>San Churro Cafe</td>\n",
       "      <td>Yes</td>\n",
       "      <td>No</td>\n",
       "      <td>3.8</td>\n",
       "      <td>918</td>\n",
       "      <td>Banashankari</td>\n",
       "      <td>Cafe, Casual Dining</td>\n",
       "      <td>Cafe, Mexican, Italian</td>\n",
       "      <td>800</td>\n",
       "      <td>Buffet</td>\n",
       "      <td>Banashankari</td>\n",
       "    </tr>\n",
       "    <tr>\n",
       "      <th>3</th>\n",
       "      <td>Addhuri Udupi Bhojana</td>\n",
       "      <td>No</td>\n",
       "      <td>No</td>\n",
       "      <td>3.7</td>\n",
       "      <td>88</td>\n",
       "      <td>Banashankari</td>\n",
       "      <td>Quick Bites</td>\n",
       "      <td>South Indian, North Indian</td>\n",
       "      <td>300</td>\n",
       "      <td>Buffet</td>\n",
       "      <td>Banashankari</td>\n",
       "    </tr>\n",
       "    <tr>\n",
       "      <th>4</th>\n",
       "      <td>Grand Village</td>\n",
       "      <td>No</td>\n",
       "      <td>No</td>\n",
       "      <td>3.8</td>\n",
       "      <td>166</td>\n",
       "      <td>Basavanagudi</td>\n",
       "      <td>Casual Dining</td>\n",
       "      <td>North Indian, Rajasthani</td>\n",
       "      <td>600</td>\n",
       "      <td>Buffet</td>\n",
       "      <td>Banashankari</td>\n",
       "    </tr>\n",
       "  </tbody>\n",
       "</table>\n",
       "</div>"
      ],
      "text/plain": [
       "                    name online_order book_table  rate  votes      location  \\\n",
       "0                  Jalsa          Yes        Yes   4.1    775  Banashankari   \n",
       "1         Spice Elephant          Yes         No   4.1    787  Banashankari   \n",
       "2        San Churro Cafe          Yes         No   3.8    918  Banashankari   \n",
       "3  Addhuri Udupi Bhojana           No         No   3.7     88  Banashankari   \n",
       "4          Grand Village           No         No   3.8    166  Basavanagudi   \n",
       "\n",
       "             rest_type                        cuisines cost2plates    Type  \\\n",
       "0        Casual Dining  North Indian, Mughlai, Chinese         800  Buffet   \n",
       "1        Casual Dining     Chinese, North Indian, Thai         800  Buffet   \n",
       "2  Cafe, Casual Dining          Cafe, Mexican, Italian         800  Buffet   \n",
       "3          Quick Bites      South Indian, North Indian         300  Buffet   \n",
       "4        Casual Dining        North Indian, Rajasthani         600  Buffet   \n",
       "\n",
       "  listed_in(city)  \n",
       "0    Banashankari  \n",
       "1    Banashankari  \n",
       "2    Banashankari  \n",
       "3    Banashankari  \n",
       "4    Banashankari  "
      ]
     },
     "execution_count": 18,
     "metadata": {},
     "output_type": "execute_result"
    }
   ],
   "source": [
    "df.rename(columns={\"approx_cost(for two people)\": \"cost2plates\", \n",
    "                   \"listed_in(type)\": \"Type\"}, inplace=True)\n",
    "df.head()\n"
   ]
  },
  {
   "cell_type": "code",
   "execution_count": 19,
   "id": "3082c85d",
   "metadata": {
    "execution": {
     "iopub.execute_input": "2024-12-03T05:18:30.683719Z",
     "iopub.status.busy": "2024-12-03T05:18:30.682806Z",
     "iopub.status.idle": "2024-12-03T05:18:30.694185Z",
     "shell.execute_reply": "2024-12-03T05:18:30.692950Z"
    },
    "papermill": {
     "duration": 0.027232,
     "end_time": "2024-12-03T05:18:30.696428",
     "exception": false,
     "start_time": "2024-12-03T05:18:30.669196",
     "status": "completed"
    },
    "tags": []
   },
   "outputs": [
    {
     "data": {
      "text/plain": [
       "array(['Banashankari', 'Basavanagudi', 'Mysore Road', 'Jayanagar',\n",
       "       'Kumaraswamy Layout', 'Rajarajeshwari Nagar', 'Vijay Nagar',\n",
       "       'Uttarahalli', 'JP Nagar', 'South Bangalore', 'City Market',\n",
       "       'Nagarbhavi', 'Bannerghatta Road', 'BTM', 'Kanakapura Road',\n",
       "       'Bommanahalli', 'CV Raman Nagar', 'Electronic City', 'HSR',\n",
       "       'Marathahalli', 'Wilson Garden', 'Shanti Nagar',\n",
       "       'Koramangala 5th Block', 'Koramangala 8th Block', 'Richmond Road',\n",
       "       'Koramangala 7th Block', 'Jalahalli', 'Koramangala 4th Block',\n",
       "       'Bellandur', 'Sarjapur Road', 'Whitefield', 'East Bangalore',\n",
       "       'Old Airport Road', 'Indiranagar', 'Koramangala 1st Block',\n",
       "       'Frazer Town', 'RT Nagar', 'MG Road', 'Brigade Road',\n",
       "       'Lavelle Road', 'Church Street', 'Ulsoor', 'Residency Road',\n",
       "       'Shivajinagar', 'Infantry Road', 'St. Marks Road',\n",
       "       'Cunningham Road', 'Race Course Road', 'Commercial Street',\n",
       "       'Vasanth Nagar', 'HBR Layout', 'Domlur', 'Ejipura',\n",
       "       'Jeevan Bhima Nagar', 'Old Madras Road', 'Malleshwaram',\n",
       "       'Seshadripuram', 'Kammanahalli', 'Koramangala 6th Block',\n",
       "       'Majestic', 'Langford Town', 'Central Bangalore', 'Sanjay Nagar',\n",
       "       'Brookefield', 'ITPL Main Road, Whitefield',\n",
       "       'Varthur Main Road, Whitefield', 'KR Puram',\n",
       "       'Koramangala 2nd Block', 'Koramangala 3rd Block', 'Koramangala',\n",
       "       'Hosur Road', 'Rajajinagar', 'Banaswadi', 'North Bangalore',\n",
       "       'Nagawara', 'Hennur', 'Kalyan Nagar', 'New BEL Road', 'Jakkur',\n",
       "       'Rammurthy Nagar', 'Thippasandra', 'Kaggadasapura', 'Hebbal',\n",
       "       'Kengeri', 'Sankey Road', 'Sadashiv Nagar', 'Basaveshwara Nagar',\n",
       "       'Yeshwantpur', 'West Bangalore', 'Magadi Road', 'Yelahanka',\n",
       "       'Sahakara Nagar', 'Peenya'], dtype=object)"
      ]
     },
     "execution_count": 19,
     "metadata": {},
     "output_type": "execute_result"
    }
   ],
   "source": [
    "df[\"location\"].unique()"
   ]
  },
  {
   "cell_type": "code",
   "execution_count": 20,
   "id": "e0c421f6",
   "metadata": {
    "execution": {
     "iopub.execute_input": "2024-12-03T05:18:30.722912Z",
     "iopub.status.busy": "2024-12-03T05:18:30.722390Z",
     "iopub.status.idle": "2024-12-03T05:18:30.732632Z",
     "shell.execute_reply": "2024-12-03T05:18:30.731415Z"
    },
    "papermill": {
     "duration": 0.026236,
     "end_time": "2024-12-03T05:18:30.735056",
     "exception": false,
     "start_time": "2024-12-03T05:18:30.708820",
     "status": "completed"
    },
    "tags": []
   },
   "outputs": [
    {
     "data": {
      "text/plain": [
       "array(['Banashankari', 'Bannerghatta Road', 'Basavanagudi', 'Bellandur',\n",
       "       'Brigade Road', 'Brookefield', 'BTM', 'Church Street',\n",
       "       'Electronic City', 'Frazer Town', 'HSR', 'Indiranagar',\n",
       "       'Jayanagar', 'JP Nagar', 'Kalyan Nagar', 'Kammanahalli',\n",
       "       'Koramangala 4th Block', 'Koramangala 5th Block',\n",
       "       'Koramangala 6th Block', 'Koramangala 7th Block', 'Lavelle Road',\n",
       "       'Malleshwaram', 'Marathahalli', 'MG Road', 'New BEL Road',\n",
       "       'Old Airport Road', 'Rajajinagar', 'Residency Road',\n",
       "       'Sarjapur Road', 'Whitefield'], dtype=object)"
      ]
     },
     "execution_count": 20,
     "metadata": {},
     "output_type": "execute_result"
    }
   ],
   "source": [
    "df[\"listed_in(city)\"].unique()"
   ]
  },
  {
   "cell_type": "code",
   "execution_count": 21,
   "id": "53fc0033",
   "metadata": {
    "execution": {
     "iopub.execute_input": "2024-12-03T05:18:30.762068Z",
     "iopub.status.busy": "2024-12-03T05:18:30.761647Z",
     "iopub.status.idle": "2024-12-03T05:18:30.772903Z",
     "shell.execute_reply": "2024-12-03T05:18:30.771834Z"
    },
    "papermill": {
     "duration": 0.027677,
     "end_time": "2024-12-03T05:18:30.775336",
     "exception": false,
     "start_time": "2024-12-03T05:18:30.747659",
     "status": "completed"
    },
    "tags": []
   },
   "outputs": [],
   "source": [
    "df = df.drop([\"listed_in(city)\"], axis = 1)"
   ]
  },
  {
   "cell_type": "code",
   "execution_count": 22,
   "id": "f2f6b883",
   "metadata": {
    "execution": {
     "iopub.execute_input": "2024-12-03T05:18:30.802788Z",
     "iopub.status.busy": "2024-12-03T05:18:30.802412Z",
     "iopub.status.idle": "2024-12-03T05:18:30.817344Z",
     "shell.execute_reply": "2024-12-03T05:18:30.816191Z"
    },
    "papermill": {
     "duration": 0.031703,
     "end_time": "2024-12-03T05:18:30.819707",
     "exception": false,
     "start_time": "2024-12-03T05:18:30.788004",
     "status": "completed"
    },
    "tags": []
   },
   "outputs": [
    {
     "data": {
      "text/html": [
       "<div>\n",
       "<style scoped>\n",
       "    .dataframe tbody tr th:only-of-type {\n",
       "        vertical-align: middle;\n",
       "    }\n",
       "\n",
       "    .dataframe tbody tr th {\n",
       "        vertical-align: top;\n",
       "    }\n",
       "\n",
       "    .dataframe thead th {\n",
       "        text-align: right;\n",
       "    }\n",
       "</style>\n",
       "<table border=\"1\" class=\"dataframe\">\n",
       "  <thead>\n",
       "    <tr style=\"text-align: right;\">\n",
       "      <th></th>\n",
       "      <th>name</th>\n",
       "      <th>online_order</th>\n",
       "      <th>book_table</th>\n",
       "      <th>rate</th>\n",
       "      <th>votes</th>\n",
       "      <th>location</th>\n",
       "      <th>rest_type</th>\n",
       "      <th>cuisines</th>\n",
       "      <th>cost2plates</th>\n",
       "      <th>Type</th>\n",
       "    </tr>\n",
       "  </thead>\n",
       "  <tbody>\n",
       "    <tr>\n",
       "      <th>0</th>\n",
       "      <td>Jalsa</td>\n",
       "      <td>Yes</td>\n",
       "      <td>Yes</td>\n",
       "      <td>4.1</td>\n",
       "      <td>775</td>\n",
       "      <td>Banashankari</td>\n",
       "      <td>Casual Dining</td>\n",
       "      <td>North Indian, Mughlai, Chinese</td>\n",
       "      <td>800</td>\n",
       "      <td>Buffet</td>\n",
       "    </tr>\n",
       "    <tr>\n",
       "      <th>1</th>\n",
       "      <td>Spice Elephant</td>\n",
       "      <td>Yes</td>\n",
       "      <td>No</td>\n",
       "      <td>4.1</td>\n",
       "      <td>787</td>\n",
       "      <td>Banashankari</td>\n",
       "      <td>Casual Dining</td>\n",
       "      <td>Chinese, North Indian, Thai</td>\n",
       "      <td>800</td>\n",
       "      <td>Buffet</td>\n",
       "    </tr>\n",
       "    <tr>\n",
       "      <th>2</th>\n",
       "      <td>San Churro Cafe</td>\n",
       "      <td>Yes</td>\n",
       "      <td>No</td>\n",
       "      <td>3.8</td>\n",
       "      <td>918</td>\n",
       "      <td>Banashankari</td>\n",
       "      <td>Cafe, Casual Dining</td>\n",
       "      <td>Cafe, Mexican, Italian</td>\n",
       "      <td>800</td>\n",
       "      <td>Buffet</td>\n",
       "    </tr>\n",
       "    <tr>\n",
       "      <th>3</th>\n",
       "      <td>Addhuri Udupi Bhojana</td>\n",
       "      <td>No</td>\n",
       "      <td>No</td>\n",
       "      <td>3.7</td>\n",
       "      <td>88</td>\n",
       "      <td>Banashankari</td>\n",
       "      <td>Quick Bites</td>\n",
       "      <td>South Indian, North Indian</td>\n",
       "      <td>300</td>\n",
       "      <td>Buffet</td>\n",
       "    </tr>\n",
       "    <tr>\n",
       "      <th>4</th>\n",
       "      <td>Grand Village</td>\n",
       "      <td>No</td>\n",
       "      <td>No</td>\n",
       "      <td>3.8</td>\n",
       "      <td>166</td>\n",
       "      <td>Basavanagudi</td>\n",
       "      <td>Casual Dining</td>\n",
       "      <td>North Indian, Rajasthani</td>\n",
       "      <td>600</td>\n",
       "      <td>Buffet</td>\n",
       "    </tr>\n",
       "  </tbody>\n",
       "</table>\n",
       "</div>"
      ],
      "text/plain": [
       "                    name online_order book_table  rate  votes      location  \\\n",
       "0                  Jalsa          Yes        Yes   4.1    775  Banashankari   \n",
       "1         Spice Elephant          Yes         No   4.1    787  Banashankari   \n",
       "2        San Churro Cafe          Yes         No   3.8    918  Banashankari   \n",
       "3  Addhuri Udupi Bhojana           No         No   3.7     88  Banashankari   \n",
       "4          Grand Village           No         No   3.8    166  Basavanagudi   \n",
       "\n",
       "             rest_type                        cuisines cost2plates    Type  \n",
       "0        Casual Dining  North Indian, Mughlai, Chinese         800  Buffet  \n",
       "1        Casual Dining     Chinese, North Indian, Thai         800  Buffet  \n",
       "2  Cafe, Casual Dining          Cafe, Mexican, Italian         800  Buffet  \n",
       "3          Quick Bites      South Indian, North Indian         300  Buffet  \n",
       "4        Casual Dining        North Indian, Rajasthani         600  Buffet  "
      ]
     },
     "execution_count": 22,
     "metadata": {},
     "output_type": "execute_result"
    }
   ],
   "source": [
    "df.head()"
   ]
  },
  {
   "cell_type": "code",
   "execution_count": 23,
   "id": "a5b0d5f9",
   "metadata": {
    "execution": {
     "iopub.execute_input": "2024-12-03T05:18:30.847435Z",
     "iopub.status.busy": "2024-12-03T05:18:30.847075Z",
     "iopub.status.idle": "2024-12-03T05:18:30.857675Z",
     "shell.execute_reply": "2024-12-03T05:18:30.856493Z"
    },
    "papermill": {
     "duration": 0.026857,
     "end_time": "2024-12-03T05:18:30.859889",
     "exception": false,
     "start_time": "2024-12-03T05:18:30.833032",
     "status": "completed"
    },
    "tags": []
   },
   "outputs": [
    {
     "data": {
      "text/plain": [
       "array(['800', '300', '600', '700', '550', '500', '450', '650', '400',\n",
       "       '900', '200', '750', '150', '850', '100', '1,200', '350', '250',\n",
       "       '950', '1,000', '1,500', '1,300', '199', '80', '1,100', '160',\n",
       "       '1,600', '230', '130', '50', '190', '1,700', '1,400', '180',\n",
       "       '1,350', '2,200', '2,000', '1,800', '1,900', '330', '2,500',\n",
       "       '2,100', '3,000', '2,800', '3,400', '40', '1,250', '3,500',\n",
       "       '4,000', '2,400', '2,600', '120', '1,450', '469', '70', '3,200',\n",
       "       '60', '560', '240', '360', '6,000', '1,050', '2,300', '4,100',\n",
       "       '5,000', '3,700', '1,650', '2,700', '4,500', '140'], dtype=object)"
      ]
     },
     "execution_count": 23,
     "metadata": {},
     "output_type": "execute_result"
    }
   ],
   "source": [
    "df[\"cost2plates\"].unique()\n"
   ]
  },
  {
   "cell_type": "markdown",
   "id": "a47211a4",
   "metadata": {
    "papermill": {
     "duration": 0.012567,
     "end_time": "2024-12-03T05:18:30.886384",
     "exception": false,
     "start_time": "2024-12-03T05:18:30.873817",
     "status": "completed"
    },
    "tags": []
   },
   "source": [
    "# Removing \",\" from cost2plates column"
   ]
  },
  {
   "cell_type": "code",
   "execution_count": 24,
   "id": "77079903",
   "metadata": {
    "execution": {
     "iopub.execute_input": "2024-12-03T05:18:30.914457Z",
     "iopub.status.busy": "2024-12-03T05:18:30.914085Z",
     "iopub.status.idle": "2024-12-03T05:18:30.964011Z",
     "shell.execute_reply": "2024-12-03T05:18:30.962664Z"
    },
    "papermill": {
     "duration": 0.067203,
     "end_time": "2024-12-03T05:18:30.966629",
     "exception": false,
     "start_time": "2024-12-03T05:18:30.899426",
     "status": "completed"
    },
    "tags": []
   },
   "outputs": [
    {
     "name": "stdout",
     "output_type": "stream",
     "text": [
      "0    800\n",
      "1    800\n",
      "2    800\n",
      "3    300\n",
      "4    600\n",
      "Name: cost2plates, dtype: int64\n"
     ]
    }
   ],
   "source": [
    "# Replace \"/5\" with an empty string\n",
    "df['cost2plates'] = df['cost2plates'].astype(str).str.replace(\",\", \"\", regex=False)\n",
    "\n",
    "# Convert to float, ignoring errors for invalid entries\n",
    "df['cost2plates'] = pd.to_numeric(df['cost2plates'], errors='coerce')\n",
    "\n",
    "# Check the result\n",
    "print(df['cost2plates'].head())\n"
   ]
  },
  {
   "cell_type": "code",
   "execution_count": 25,
   "id": "a8a05223",
   "metadata": {
    "execution": {
     "iopub.execute_input": "2024-12-03T05:18:30.994720Z",
     "iopub.status.busy": "2024-12-03T05:18:30.994278Z",
     "iopub.status.idle": "2024-12-03T05:18:31.008957Z",
     "shell.execute_reply": "2024-12-03T05:18:31.007727Z"
    },
    "papermill": {
     "duration": 0.031279,
     "end_time": "2024-12-03T05:18:31.011319",
     "exception": false,
     "start_time": "2024-12-03T05:18:30.980040",
     "status": "completed"
    },
    "tags": []
   },
   "outputs": [
    {
     "data": {
      "text/html": [
       "<div>\n",
       "<style scoped>\n",
       "    .dataframe tbody tr th:only-of-type {\n",
       "        vertical-align: middle;\n",
       "    }\n",
       "\n",
       "    .dataframe tbody tr th {\n",
       "        vertical-align: top;\n",
       "    }\n",
       "\n",
       "    .dataframe thead th {\n",
       "        text-align: right;\n",
       "    }\n",
       "</style>\n",
       "<table border=\"1\" class=\"dataframe\">\n",
       "  <thead>\n",
       "    <tr style=\"text-align: right;\">\n",
       "      <th></th>\n",
       "      <th>name</th>\n",
       "      <th>online_order</th>\n",
       "      <th>book_table</th>\n",
       "      <th>rate</th>\n",
       "      <th>votes</th>\n",
       "      <th>location</th>\n",
       "      <th>rest_type</th>\n",
       "      <th>cuisines</th>\n",
       "      <th>cost2plates</th>\n",
       "      <th>Type</th>\n",
       "    </tr>\n",
       "  </thead>\n",
       "  <tbody>\n",
       "    <tr>\n",
       "      <th>0</th>\n",
       "      <td>Jalsa</td>\n",
       "      <td>Yes</td>\n",
       "      <td>Yes</td>\n",
       "      <td>4.1</td>\n",
       "      <td>775</td>\n",
       "      <td>Banashankari</td>\n",
       "      <td>Casual Dining</td>\n",
       "      <td>North Indian, Mughlai, Chinese</td>\n",
       "      <td>800</td>\n",
       "      <td>Buffet</td>\n",
       "    </tr>\n",
       "    <tr>\n",
       "      <th>1</th>\n",
       "      <td>Spice Elephant</td>\n",
       "      <td>Yes</td>\n",
       "      <td>No</td>\n",
       "      <td>4.1</td>\n",
       "      <td>787</td>\n",
       "      <td>Banashankari</td>\n",
       "      <td>Casual Dining</td>\n",
       "      <td>Chinese, North Indian, Thai</td>\n",
       "      <td>800</td>\n",
       "      <td>Buffet</td>\n",
       "    </tr>\n",
       "    <tr>\n",
       "      <th>2</th>\n",
       "      <td>San Churro Cafe</td>\n",
       "      <td>Yes</td>\n",
       "      <td>No</td>\n",
       "      <td>3.8</td>\n",
       "      <td>918</td>\n",
       "      <td>Banashankari</td>\n",
       "      <td>Cafe, Casual Dining</td>\n",
       "      <td>Cafe, Mexican, Italian</td>\n",
       "      <td>800</td>\n",
       "      <td>Buffet</td>\n",
       "    </tr>\n",
       "    <tr>\n",
       "      <th>3</th>\n",
       "      <td>Addhuri Udupi Bhojana</td>\n",
       "      <td>No</td>\n",
       "      <td>No</td>\n",
       "      <td>3.7</td>\n",
       "      <td>88</td>\n",
       "      <td>Banashankari</td>\n",
       "      <td>Quick Bites</td>\n",
       "      <td>South Indian, North Indian</td>\n",
       "      <td>300</td>\n",
       "      <td>Buffet</td>\n",
       "    </tr>\n",
       "    <tr>\n",
       "      <th>4</th>\n",
       "      <td>Grand Village</td>\n",
       "      <td>No</td>\n",
       "      <td>No</td>\n",
       "      <td>3.8</td>\n",
       "      <td>166</td>\n",
       "      <td>Basavanagudi</td>\n",
       "      <td>Casual Dining</td>\n",
       "      <td>North Indian, Rajasthani</td>\n",
       "      <td>600</td>\n",
       "      <td>Buffet</td>\n",
       "    </tr>\n",
       "  </tbody>\n",
       "</table>\n",
       "</div>"
      ],
      "text/plain": [
       "                    name online_order book_table  rate  votes      location  \\\n",
       "0                  Jalsa          Yes        Yes   4.1    775  Banashankari   \n",
       "1         Spice Elephant          Yes         No   4.1    787  Banashankari   \n",
       "2        San Churro Cafe          Yes         No   3.8    918  Banashankari   \n",
       "3  Addhuri Udupi Bhojana           No         No   3.7     88  Banashankari   \n",
       "4          Grand Village           No         No   3.8    166  Basavanagudi   \n",
       "\n",
       "             rest_type                        cuisines  cost2plates    Type  \n",
       "0        Casual Dining  North Indian, Mughlai, Chinese          800  Buffet  \n",
       "1        Casual Dining     Chinese, North Indian, Thai          800  Buffet  \n",
       "2  Cafe, Casual Dining          Cafe, Mexican, Italian          800  Buffet  \n",
       "3          Quick Bites      South Indian, North Indian          300  Buffet  \n",
       "4        Casual Dining        North Indian, Rajasthani          600  Buffet  "
      ]
     },
     "execution_count": 25,
     "metadata": {},
     "output_type": "execute_result"
    }
   ],
   "source": [
    "df.head()"
   ]
  },
  {
   "cell_type": "markdown",
   "id": "9e60c432",
   "metadata": {
    "papermill": {
     "duration": 0.013226,
     "end_time": "2024-12-03T05:18:31.037750",
     "exception": false,
     "start_time": "2024-12-03T05:18:31.024524",
     "status": "completed"
    },
    "tags": []
   },
   "source": [
    "# Cleaning rest_type column"
   ]
  },
  {
   "cell_type": "code",
   "execution_count": 26,
   "id": "257d7a50",
   "metadata": {
    "execution": {
     "iopub.execute_input": "2024-12-03T05:18:31.066259Z",
     "iopub.status.busy": "2024-12-03T05:18:31.065847Z",
     "iopub.status.idle": "2024-12-03T05:18:31.079063Z",
     "shell.execute_reply": "2024-12-03T05:18:31.077926Z"
    },
    "papermill": {
     "duration": 0.02987,
     "end_time": "2024-12-03T05:18:31.081334",
     "exception": false,
     "start_time": "2024-12-03T05:18:31.051464",
     "status": "completed"
    },
    "tags": []
   },
   "outputs": [
    {
     "data": {
      "text/plain": [
       "rest_type\n",
       "Quick Bites                   19010\n",
       "Casual Dining                 10253\n",
       "Cafe                           3682\n",
       "Delivery                       2574\n",
       "Dessert Parlor                 2242\n",
       "                              ...  \n",
       "Dessert Parlor, Kiosk             2\n",
       "Food Court, Beverage Shop         2\n",
       "Dessert Parlor, Food Court        2\n",
       "Quick Bites, Kiosk                1\n",
       "Sweet Shop, Dessert Parlor        1\n",
       "Name: count, Length: 93, dtype: int64"
      ]
     },
     "execution_count": 26,
     "metadata": {},
     "output_type": "execute_result"
    }
   ],
   "source": [
    "df[\"rest_type\"].value_counts()"
   ]
  },
  {
   "cell_type": "markdown",
   "id": "503a7da4",
   "metadata": {
    "papermill": {
     "duration": 0.013164,
     "end_time": "2024-12-03T05:18:31.107678",
     "exception": false,
     "start_time": "2024-12-03T05:18:31.094514",
     "status": "completed"
    },
    "tags": []
   },
   "source": [
    "# Define the lists \n"
   ]
  },
  {
   "cell_type": "code",
   "execution_count": 27,
   "id": "2c2c194e",
   "metadata": {
    "execution": {
     "iopub.execute_input": "2024-12-03T05:18:31.136068Z",
     "iopub.status.busy": "2024-12-03T05:18:31.135621Z",
     "iopub.status.idle": "2024-12-03T05:18:31.140954Z",
     "shell.execute_reply": "2024-12-03T05:18:31.139780Z"
    },
    "papermill": {
     "duration": 0.02187,
     "end_time": "2024-12-03T05:18:31.143152",
     "exception": false,
     "start_time": "2024-12-03T05:18:31.121282",
     "status": "completed"
    },
    "tags": []
   },
   "outputs": [],
   "source": [
    "# Define the list of rest types that occur less than 1000 times\n",
    "rest_types_less_than_1000 = ['Dessert Parlor, Food Court ', 'Quick Bites, Kiosk', 'Sweet Shop, Dessert Parlor', 'Food Court, Beverage Shop', 'Dessert Parlor, Kiosk']  "
   ]
  },
  {
   "cell_type": "markdown",
   "id": "c5743446",
   "metadata": {
    "papermill": {
     "duration": 0.012985,
     "end_time": "2024-12-03T05:18:31.169312",
     "exception": false,
     "start_time": "2024-12-03T05:18:31.156327",
     "status": "completed"
    },
    "tags": []
   },
   "source": [
    "# Making rest_types less than 1000 in frequency as others "
   ]
  },
  {
   "cell_type": "code",
   "execution_count": 28,
   "id": "08584ff7",
   "metadata": {
    "execution": {
     "iopub.execute_input": "2024-12-03T05:18:31.197942Z",
     "iopub.status.busy": "2024-12-03T05:18:31.196942Z",
     "iopub.status.idle": "2024-12-03T05:18:31.351415Z",
     "shell.execute_reply": "2024-12-03T05:18:31.350135Z"
    },
    "papermill": {
     "duration": 0.171512,
     "end_time": "2024-12-03T05:18:31.353980",
     "exception": false,
     "start_time": "2024-12-03T05:18:31.182468",
     "status": "completed"
    },
    "tags": []
   },
   "outputs": [
    {
     "name": "stdout",
     "output_type": "stream",
     "text": [
      "rest_type\n",
      "Quick Bites           19010\n",
      "Casual Dining         10253\n",
      "others                 9003\n",
      "Cafe                   3682\n",
      "Delivery               2574\n",
      "Dessert Parlor         2242\n",
      "Takeaway, Delivery     2008\n",
      "Bakery                 1140\n",
      "Casual Dining, Bar     1130\n",
      "Name: count, dtype: int64\n"
     ]
    }
   ],
   "source": [
    "# Get the values in 'rest_type' that appear less than 1000 times\n",
    "rest_types_less_than_1000 = df['rest_type'].value_counts()[df['rest_type'].value_counts() < 1000].index\n",
    "\n",
    "# Replace them with 'others'\n",
    "df['rest_type'] = df['rest_type'].replace(rest_types_less_than_1000, 'others')\n",
    "\n",
    "# Check the updated counts\n",
    "print(df['rest_type'].value_counts())\n",
    "\n"
   ]
  },
  {
   "cell_type": "markdown",
   "id": "6e92f17f",
   "metadata": {
    "papermill": {
     "duration": 0.014321,
     "end_time": "2024-12-03T05:18:31.382149",
     "exception": false,
     "start_time": "2024-12-03T05:18:31.367828",
     "status": "completed"
    },
    "tags": []
   },
   "source": [
    "# Cleaning locations column"
   ]
  },
  {
   "cell_type": "code",
   "execution_count": 29,
   "id": "d4747f5d",
   "metadata": {
    "execution": {
     "iopub.execute_input": "2024-12-03T05:18:31.411270Z",
     "iopub.status.busy": "2024-12-03T05:18:31.410813Z",
     "iopub.status.idle": "2024-12-03T05:18:31.424389Z",
     "shell.execute_reply": "2024-12-03T05:18:31.423165Z"
    },
    "papermill": {
     "duration": 0.031117,
     "end_time": "2024-12-03T05:18:31.426800",
     "exception": false,
     "start_time": "2024-12-03T05:18:31.395683",
     "status": "completed"
    },
    "tags": []
   },
   "outputs": [
    {
     "data": {
      "text/plain": [
       "location\n",
       "BTM                      5056\n",
       "HSR                      2494\n",
       "Koramangala 5th Block    2479\n",
       "JP Nagar                 2218\n",
       "Whitefield               2105\n",
       "                         ... \n",
       "West Bangalore              6\n",
       "Yelahanka                   5\n",
       "Jakkur                      3\n",
       "Rajarajeshwari Nagar        2\n",
       "Peenya                      1\n",
       "Name: count, Length: 93, dtype: int64"
      ]
     },
     "execution_count": 29,
     "metadata": {},
     "output_type": "execute_result"
    }
   ],
   "source": [
    "df[\"location\"].value_counts()"
   ]
  },
  {
   "cell_type": "code",
   "execution_count": 30,
   "id": "0dc678d7",
   "metadata": {
    "execution": {
     "iopub.execute_input": "2024-12-03T05:18:31.455255Z",
     "iopub.status.busy": "2024-12-03T05:18:31.454837Z",
     "iopub.status.idle": "2024-12-03T05:18:31.459886Z",
     "shell.execute_reply": "2024-12-03T05:18:31.458751Z"
    },
    "papermill": {
     "duration": 0.0218,
     "end_time": "2024-12-03T05:18:31.462151",
     "exception": false,
     "start_time": "2024-12-03T05:18:31.440351",
     "status": "completed"
    },
    "tags": []
   },
   "outputs": [],
   "source": [
    "location_lessthan300 = [\"Peenya \",\"Rajarajeshwari Nagar\", \"Jakkur\",\"Yelahanka\",\"West Bangalore\"]"
   ]
  },
  {
   "cell_type": "code",
   "execution_count": 31,
   "id": "c693a91e",
   "metadata": {
    "execution": {
     "iopub.execute_input": "2024-12-03T05:18:31.491149Z",
     "iopub.status.busy": "2024-12-03T05:18:31.490746Z",
     "iopub.status.idle": "2024-12-03T05:18:31.604328Z",
     "shell.execute_reply": "2024-12-03T05:18:31.602909Z"
    },
    "papermill": {
     "duration": 0.130765,
     "end_time": "2024-12-03T05:18:31.606757",
     "exception": false,
     "start_time": "2024-12-03T05:18:31.475992",
     "status": "completed"
    },
    "tags": []
   },
   "outputs": [
    {
     "name": "stdout",
     "output_type": "stream",
     "text": [
      "location\n",
      "others                   5667\n",
      "BTM                      5056\n",
      "HSR                      2494\n",
      "Koramangala 5th Block    2479\n",
      "JP Nagar                 2218\n",
      "Whitefield               2105\n",
      "Indiranagar              2026\n",
      "Jayanagar                1916\n",
      "Marathahalli             1805\n",
      "Bannerghatta Road        1609\n",
      "Bellandur                1268\n",
      "Electronic City          1246\n",
      "Koramangala 1st Block    1236\n",
      "Brigade Road             1210\n",
      "Koramangala 7th Block    1174\n",
      "Koramangala 6th Block    1127\n",
      "Sarjapur Road            1047\n",
      "Koramangala 4th Block    1017\n",
      "Ulsoor                   1011\n",
      "Banashankari              902\n",
      "MG Road                   893\n",
      "Kalyan Nagar              841\n",
      "Richmond Road             803\n",
      "Malleshwaram              721\n",
      "Frazer Town               714\n",
      "Basavanagudi              684\n",
      "Residency Road            671\n",
      "Brookefield               656\n",
      "New BEL Road              644\n",
      "Banaswadi                 640\n",
      "Kammanahalli              639\n",
      "Rajajinagar               591\n",
      "Church Street             566\n",
      "Lavelle Road              518\n",
      "Shanti Nagar              508\n",
      "Shivajinagar              498\n",
      "Cunningham Road           490\n",
      "Domlur                    482\n",
      "Old Airport Road          437\n",
      "Ejipura                   433\n",
      "Name: count, dtype: int64\n"
     ]
    }
   ],
   "source": [
    "# Find the locations that occur less than 400 times\n",
    "location_lessthan400 = df[\"location\"].value_counts()[df[\"location\"].value_counts() < 400].index\n",
    "\n",
    "# Replace those locations with 'others'\n",
    "df[\"location\"] = df[\"location\"].replace(location_lessthan400, \"others\")\n",
    "\n",
    "# Check the updated counts of 'location'\n",
    "print(df[\"location\"].value_counts())"
   ]
  },
  {
   "cell_type": "markdown",
   "id": "de1b30c9",
   "metadata": {
    "papermill": {
     "duration": 0.013221,
     "end_time": "2024-12-03T05:18:31.633667",
     "exception": false,
     "start_time": "2024-12-03T05:18:31.620446",
     "status": "completed"
    },
    "tags": []
   },
   "source": [
    "# Cleaning cuisines column"
   ]
  },
  {
   "cell_type": "code",
   "execution_count": 32,
   "id": "fc8d79b3",
   "metadata": {
    "execution": {
     "iopub.execute_input": "2024-12-03T05:18:31.662770Z",
     "iopub.status.busy": "2024-12-03T05:18:31.662368Z",
     "iopub.status.idle": "2024-12-03T05:18:31.676719Z",
     "shell.execute_reply": "2024-12-03T05:18:31.675447Z"
    },
    "papermill": {
     "duration": 0.031847,
     "end_time": "2024-12-03T05:18:31.678971",
     "exception": false,
     "start_time": "2024-12-03T05:18:31.647124",
     "status": "completed"
    },
    "tags": []
   },
   "outputs": [
    {
     "data": {
      "text/plain": [
       "cuisines\n",
       "North Indian                                2852\n",
       "North Indian, Chinese                       2351\n",
       "South Indian                                1820\n",
       "Biryani                                      903\n",
       "Bakery, Desserts                             898\n",
       "                                            ... \n",
       "North Indian, Chinese, Oriya, Mithai           1\n",
       "Beverages, Burger                              1\n",
       "North Indian, Mughlai, Lucknowi                1\n",
       "Continental, Thai, North Indian, Chinese       1\n",
       "North Indian, Chinese, Arabian, Momos          1\n",
       "Name: count, Length: 2704, dtype: int64"
      ]
     },
     "execution_count": 32,
     "metadata": {},
     "output_type": "execute_result"
    }
   ],
   "source": [
    "df[\"cuisines\"].value_counts()"
   ]
  },
  {
   "cell_type": "code",
   "execution_count": 33,
   "id": "52d25741",
   "metadata": {
    "execution": {
     "iopub.execute_input": "2024-12-03T05:18:31.708055Z",
     "iopub.status.busy": "2024-12-03T05:18:31.707081Z",
     "iopub.status.idle": "2024-12-03T05:18:31.712069Z",
     "shell.execute_reply": "2024-12-03T05:18:31.711016Z"
    },
    "papermill": {
     "duration": 0.021884,
     "end_time": "2024-12-03T05:18:31.714348",
     "exception": false,
     "start_time": "2024-12-03T05:18:31.692464",
     "status": "completed"
    },
    "tags": []
   },
   "outputs": [],
   "source": [
    "cuisines_lessthan200 = [\"North Indian, Chinese, Oriya, Mithai \",\"Beverages, Burger\",\"North Indian, Mughlai, Lucknowi\",\"Continental, Thai, North Indian, Chinese\",\"North Indian, Chinese, Arabian, Momos \"]"
   ]
  },
  {
   "cell_type": "code",
   "execution_count": 34,
   "id": "2b5c98c0",
   "metadata": {
    "execution": {
     "iopub.execute_input": "2024-12-03T05:18:31.743682Z",
     "iopub.status.busy": "2024-12-03T05:18:31.742841Z",
     "iopub.status.idle": "2024-12-03T05:18:35.938884Z",
     "shell.execute_reply": "2024-12-03T05:18:35.937463Z"
    },
    "papermill": {
     "duration": 4.213604,
     "end_time": "2024-12-03T05:18:35.941501",
     "exception": false,
     "start_time": "2024-12-03T05:18:31.727897",
     "status": "completed"
    },
    "tags": []
   },
   "outputs": [
    {
     "name": "stdout",
     "output_type": "stream",
     "text": [
      "cuisines\n",
      "others                                 30795\n",
      "North Indian                            2852\n",
      "North Indian, Chinese                   2351\n",
      "South Indian                            1820\n",
      "Biryani                                  903\n",
      "Bakery, Desserts                         898\n",
      "Fast Food                                796\n",
      "Desserts                                 754\n",
      "Cafe                                     725\n",
      "South Indian, North Indian, Chinese      724\n",
      "Bakery                                   649\n",
      "Chinese                                  552\n",
      "Ice Cream, Desserts                      415\n",
      "Chinese, North Indian                    405\n",
      "Mithai, Street Food                      363\n",
      "Desserts, Ice Cream                      349\n",
      "North Indian, Chinese, Biryani           345\n",
      "South Indian, North Indian               337\n",
      "North Indian, South Indian               329\n",
      "North Indian, South Indian, Chinese      305\n",
      "Beverages                                284\n",
      "North Indian, Biryani                    283\n",
      "Biryani, Kebab                           277\n",
      "Biryani, North Indian                    264\n",
      "Desserts, Beverages                      261\n",
      "Finger Food                              258\n",
      "Street Food                              255\n",
      "South Indian, Chinese                    254\n",
      "South Indian, Biryani                    246\n",
      "Beverages, Fast Food                     245\n",
      "Chinese, Momos                           238\n",
      "North Indian, Fast Food                  237\n",
      "Cafe, Fast Food                          230\n",
      "Fast Food, Beverages                     218\n",
      "Ice Cream                                213\n",
      "Kerala                                   208\n",
      "Desserts, Bakery                         203\n",
      "North Indian, Chinese, South Indian      201\n",
      "Name: count, dtype: int64\n"
     ]
    }
   ],
   "source": [
    "cuisines_lessthan200 = df[\"cuisines\"].value_counts()[df[\"cuisines\"].value_counts() < 200].index\n",
    "df[\"cuisines\"] = df[\"cuisines\"].replace(cuisines_lessthan200, \"others\")\n",
    "print(df[\"cuisines\"].value_counts())"
   ]
  },
  {
   "cell_type": "markdown",
   "id": "803eea2e",
   "metadata": {
    "papermill": {
     "duration": 0.013557,
     "end_time": "2024-12-03T05:18:35.968991",
     "exception": false,
     "start_time": "2024-12-03T05:18:35.955434",
     "status": "completed"
    },
    "tags": []
   },
   "source": [
    "# Lets jump to visualization"
   ]
  },
  {
   "cell_type": "markdown",
   "id": "cf318a55",
   "metadata": {
    "papermill": {
     "duration": 0.013661,
     "end_time": "2024-12-03T05:18:35.996940",
     "exception": false,
     "start_time": "2024-12-03T05:18:35.983279",
     "status": "completed"
    },
    "tags": []
   },
   "source": [
    "# Count plot of various location"
   ]
  },
  {
   "cell_type": "code",
   "execution_count": 35,
   "id": "c6a59276",
   "metadata": {
    "execution": {
     "iopub.execute_input": "2024-12-03T05:18:36.025906Z",
     "iopub.status.busy": "2024-12-03T05:18:36.025512Z",
     "iopub.status.idle": "2024-12-03T05:18:36.595812Z",
     "shell.execute_reply": "2024-12-03T05:18:36.594662Z"
    },
    "papermill": {
     "duration": 0.587515,
     "end_time": "2024-12-03T05:18:36.598160",
     "exception": false,
     "start_time": "2024-12-03T05:18:36.010645",
     "status": "completed"
    },
    "tags": []
   },
   "outputs": [
    {
     "data": {
      "image/png": "[encoded data removed]",
      "text/plain": [
       "<Figure size 1200x600 with 1 Axes>"
      ]
     },
     "metadata": {},
     "output_type": "display_data"
    }
   ],
   "source": [
    "# Plot the countplot\n",
    "plt.figure(figsize=(12, 6))\n",
    "ax = sns.countplot(x='location', data=df)\n",
    "\n",
    "# Rotate the x-axis labels for better readability\n",
    "plt.xticks(rotation=90)\n",
    "\n",
    "# Show the plot\n",
    "plt.show()\n"
   ]
  },
  {
   "cell_type": "markdown",
   "id": "b13e4d1a",
   "metadata": {
    "papermill": {
     "duration": 0.014418,
     "end_time": "2024-12-03T05:18:36.627734",
     "exception": false,
     "start_time": "2024-12-03T05:18:36.613316",
     "status": "completed"
    },
    "tags": []
   },
   "source": [
    "# Visualizing online order"
   ]
  },
  {
   "cell_type": "code",
   "execution_count": 36,
   "id": "5039d95a",
   "metadata": {
    "execution": {
     "iopub.execute_input": "2024-12-03T05:18:36.659194Z",
     "iopub.status.busy": "2024-12-03T05:18:36.658307Z",
     "iopub.status.idle": "2024-12-03T05:18:36.894651Z",
     "shell.execute_reply": "2024-12-03T05:18:36.893153Z"
    },
    "papermill": {
     "duration": 0.254827,
     "end_time": "2024-12-03T05:18:36.897158",
     "exception": false,
     "start_time": "2024-12-03T05:18:36.642331",
     "status": "completed"
    },
    "tags": []
   },
   "outputs": [
    {
     "data": {
      "image/png": "[encoded data removed]",
      "text/plain": [
       "<Figure size 1200x600 with 1 Axes>"
      ]
     },
     "metadata": {},
     "output_type": "display_data"
    }
   ],
   "source": [
    "plt.figure(figsize=(12, 6))\n",
    "ax = sns.countplot(x='online_order', data=df)\n",
    "plt.show()"
   ]
  },
  {
   "cell_type": "markdown",
   "id": "46ace947",
   "metadata": {
    "papermill": {
     "duration": 0.01491,
     "end_time": "2024-12-03T05:18:36.927275",
     "exception": false,
     "start_time": "2024-12-03T05:18:36.912365",
     "status": "completed"
    },
    "tags": []
   },
   "source": [
    "# Visualizing book table"
   ]
  },
  {
   "cell_type": "code",
   "execution_count": 37,
   "id": "c0fe3c05",
   "metadata": {
    "execution": {
     "iopub.execute_input": "2024-12-03T05:18:36.961125Z",
     "iopub.status.busy": "2024-12-03T05:18:36.960727Z",
     "iopub.status.idle": "2024-12-03T05:18:37.185248Z",
     "shell.execute_reply": "2024-12-03T05:18:37.184164Z"
    },
    "papermill": {
     "duration": 0.244453,
     "end_time": "2024-12-03T05:18:37.187622",
     "exception": false,
     "start_time": "2024-12-03T05:18:36.943169",
     "status": "completed"
    },
    "tags": []
   },
   "outputs": [
    {
     "data": {
      "image/png": "[encoded data removed]",
      "text/plain": [
       "<Figure size 1200x600 with 1 Axes>"
      ]
     },
     "metadata": {},
     "output_type": "display_data"
    }
   ],
   "source": [
    "plt.figure(figsize = (12,6))\n",
    "ax = sns.countplot(x = \"book_table\", data = df)\n",
    "plt.show()"
   ]
  },
  {
   "cell_type": "markdown",
   "id": "7709a0b0",
   "metadata": {
    "papermill": {
     "duration": 0.015041,
     "end_time": "2024-12-03T05:18:37.218751",
     "exception": false,
     "start_time": "2024-12-03T05:18:37.203710",
     "status": "completed"
    },
    "tags": []
   },
   "source": [
    "# Visualizing online order vs rate"
   ]
  },
  {
   "cell_type": "code",
   "execution_count": 38,
   "id": "d6d25db3",
   "metadata": {
    "execution": {
     "iopub.execute_input": "2024-12-03T05:18:37.251721Z",
     "iopub.status.busy": "2024-12-03T05:18:37.251026Z",
     "iopub.status.idle": "2024-12-03T05:18:37.514167Z",
     "shell.execute_reply": "2024-12-03T05:18:37.512832Z"
    },
    "papermill": {
     "duration": 0.282886,
     "end_time": "2024-12-03T05:18:37.517194",
     "exception": false,
     "start_time": "2024-12-03T05:18:37.234308",
     "status": "completed"
    },
    "tags": []
   },
   "outputs": [
    {
     "data": {
      "image/png": "[encoded data removed]",
      "text/plain": [
       "<Figure size 1200x600 with 1 Axes>"
      ]
     },
     "metadata": {},
     "output_type": "display_data"
    }
   ],
   "source": [
    "plt.figure(figsize = (12,6))\n",
    "ax = sns.boxplot(x = \"online_order\", y = \"rate\", data = df)\n",
    "plt.show()"
   ]
  },
  {
   "cell_type": "markdown",
   "id": "51c175f7",
   "metadata": {
    "papermill": {
     "duration": 0.015432,
     "end_time": "2024-12-03T05:18:37.548734",
     "exception": false,
     "start_time": "2024-12-03T05:18:37.533302",
     "status": "completed"
    },
    "tags": []
   },
   "source": [
    "# Visualizing book table vs rate"
   ]
  },
  {
   "cell_type": "code",
   "execution_count": 39,
   "id": "5b720a9d",
   "metadata": {
    "execution": {
     "iopub.execute_input": "2024-12-03T05:18:37.584590Z",
     "iopub.status.busy": "2024-12-03T05:18:37.584035Z",
     "iopub.status.idle": "2024-12-03T05:18:37.863966Z",
     "shell.execute_reply": "2024-12-03T05:18:37.862766Z"
    },
    "papermill": {
     "duration": 0.301783,
     "end_time": "2024-12-03T05:18:37.866290",
     "exception": false,
     "start_time": "2024-12-03T05:18:37.564507",
     "status": "completed"
    },
    "tags": []
   },
   "outputs": [
    {
     "data": {
      "image/png": "[encoded data removed]",
      "text/plain": [
       "<Figure size 1200x600 with 1 Axes>"
      ]
     },
     "metadata": {},
     "output_type": "display_data"
    }
   ],
   "source": [
    "plt.figure(figsize = (12,6))\n",
    "ax = sns.boxplot(x = \"book_table\", y = \"rate\", data = df)\n",
    "plt.show()"
   ]
  },
  {
   "cell_type": "markdown",
   "id": "ef6283e3",
   "metadata": {
    "papermill": {
     "duration": 0.016032,
     "end_time": "2024-12-03T05:18:37.899641",
     "exception": false,
     "start_time": "2024-12-03T05:18:37.883609",
     "status": "completed"
    },
    "tags": []
   },
   "source": [
    "# Visualising online order facility locataion wise"
   ]
  },
  {
   "cell_type": "code",
   "execution_count": 40,
   "id": "f2acafde",
   "metadata": {
    "execution": {
     "iopub.execute_input": "2024-12-03T05:18:37.933994Z",
     "iopub.status.busy": "2024-12-03T05:18:37.933560Z",
     "iopub.status.idle": "2024-12-03T05:18:38.610023Z",
     "shell.execute_reply": "2024-12-03T05:18:38.608806Z"
    },
    "papermill": {
     "duration": 0.696497,
     "end_time": "2024-12-03T05:18:38.612513",
     "exception": false,
     "start_time": "2024-12-03T05:18:37.916016",
     "status": "completed"
    },
    "tags": []
   },
   "outputs": [
    {
     "data": {
      "image/png": "[encoded data removed]",
      "text/plain": [
       "<Figure size 1500x800 with 1 Axes>"
      ]
     },
     "metadata": {},
     "output_type": "display_data"
    }
   ],
   "source": [
    "# Grouping data and counting\n",
    "df1 = df.groupby(['location', 'online_order']).size().unstack(fill_value=0)\n",
    "\n",
    "# Plotting\n",
    "df1.plot(kind='bar', figsize=(15, 8))\n",
    "plt.title('Online Order Facility, Location Wise')\n",
    "plt.xlabel('Location')\n",
    "plt.ylabel('Count')\n",
    "plt.show()\n"
   ]
  },
  {
   "cell_type": "markdown",
   "id": "d29b300f",
   "metadata": {
    "papermill": {
     "duration": 0.017061,
     "end_time": "2024-12-03T05:18:38.648364",
     "exception": false,
     "start_time": "2024-12-03T05:18:38.631303",
     "status": "completed"
    },
    "tags": []
   },
   "source": [
    "# Visualising book table facility location wise"
   ]
  },
  {
   "cell_type": "code",
   "execution_count": 41,
   "id": "98131053",
   "metadata": {
    "execution": {
     "iopub.execute_input": "2024-12-03T05:18:38.686245Z",
     "iopub.status.busy": "2024-12-03T05:18:38.685793Z",
     "iopub.status.idle": "2024-12-03T05:18:39.322606Z",
     "shell.execute_reply": "2024-12-03T05:18:39.321423Z"
    },
    "papermill": {
     "duration": 0.657979,
     "end_time": "2024-12-03T05:18:39.325066",
     "exception": false,
     "start_time": "2024-12-03T05:18:38.667087",
     "status": "completed"
    },
    "tags": []
   },
   "outputs": [
    {
     "data": {
      "image/png": "[encoded data removed]",
      "text/plain": [
       "<Figure size 1500x800 with 1 Axes>"
      ]
     },
     "metadata": {},
     "output_type": "display_data"
    }
   ],
   "source": [
    "df1 = df.groupby([\"location\" , \"book_table\"]).size().unstack(fill_value=0)\n",
    "df1.plot(kind = \"bar\", figsize=(15,8))\n",
    "plt.title(\"book_table Facility, Location wise\")\n",
    "plt.xlabel(\"location\")\n",
    "plt.ylabel(\"count\")\n",
    "plt.show()"
   ]
  },
  {
   "cell_type": "markdown",
   "id": "8e2ac7a5",
   "metadata": {
    "papermill": {
     "duration": 0.018269,
     "end_time": "2024-12-03T05:18:39.362464",
     "exception": false,
     "start_time": "2024-12-03T05:18:39.344195",
     "status": "completed"
    },
    "tags": []
   },
   "source": [
    "# Visulaising types of restraunts vs rate"
   ]
  },
  {
   "cell_type": "code",
   "execution_count": 42,
   "id": "6791bcb7",
   "metadata": {
    "execution": {
     "iopub.execute_input": "2024-12-03T05:18:39.402663Z",
     "iopub.status.busy": "2024-12-03T05:18:39.401700Z",
     "iopub.status.idle": "2024-12-03T05:18:39.913009Z",
     "shell.execute_reply": "2024-12-03T05:18:39.911705Z"
    },
    "papermill": {
     "duration": 0.534331,
     "end_time": "2024-12-03T05:18:39.915431",
     "exception": false,
     "start_time": "2024-12-03T05:18:39.381100",
     "status": "completed"
    },
    "tags": []
   },
   "outputs": [
    {
     "data": {
      "image/png": "[encoded data removed]",
      "text/plain": [
       "<Figure size 1600x800 with 1 Axes>"
      ]
     },
     "metadata": {},
     "output_type": "display_data"
    }
   ],
   "source": [
    "plt.figure(figsize=(16, 8))\n",
    "sns.boxplot(x=\"Type\", y=\"rate\", data=df)\n",
    "plt.title(\"Type vs rate\")\n",
    "plt.xlabel(\"Type\")\n",
    "plt.ylabel(\"rate\")\n",
    "plt.show()\n"
   ]
  },
  {
   "cell_type": "code",
   "execution_count": null,
   "id": "53f440ad",
   "metadata": {
    "papermill": {
     "duration": 0.019278,
     "end_time": "2024-12-03T05:18:39.954080",
     "exception": false,
     "start_time": "2024-12-03T05:18:39.934802",
     "status": "completed"
    },
    "tags": []
   },
   "outputs": [],
   "source": []
  }
 ],
 "metadata": {
  "kaggle": {
   "accelerator": "none",
   "dataSources": [
    {
     "datasetId": 153420,
     "sourceId": 352891,
     "sourceType": "datasetVersion"
    }
   ],
   "dockerImageVersionId": 30786,
   "isGpuEnabled": false,
   "isInternetEnabled": false,
   "language": "python",
   "sourceType": "notebook"
  },
  "kernelspec": {
   "display_name": "Python 3",
   "language": "python",
   "name": "python3"
  },
  "language_info": {
   "codemirror_mode": {
    "name": "ipython",
    "version": 3
   },
   "file_extension": ".py",
   "mimetype": "text/x-python",
   "name": "python",
   "nbconvert_exporter": "python",
   "pygments_lexer": "ipython3",
   "version": "3.10.14"
  },
  "papermill": {
   "default_parameters": {},
   "duration": 30.397258,
   "end_time": "2024-12-03T05:18:40.696249",
   "environment_variables": {},
   "exception": null,
   "input_path": "__notebook__.ipynb",
   "output_path": "__notebook__.ipynb",
   "parameters": {},
   "start_time": "2024-12-03T05:18:10.298991",
   "version": "2.6.0"
  }
 },
 "nbformat": 4,
 "nbformat_minor": 5
}
